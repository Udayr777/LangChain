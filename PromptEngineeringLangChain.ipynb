{
 "cells": [
  {
   "cell_type": "code",
   "execution_count": 2,
   "metadata": {},
   "outputs": [],
   "source": [
    "# import libraries\n",
    "import os\n",
    "os.environ[\"OPENAI_API_KEY\"] = \"\""
   ]
  },
  {
   "cell_type": "code",
   "execution_count": 4,
   "metadata": {},
   "outputs": [
    {
     "data": {
      "text/plain": [
       "' I want you to act as a acting financial advisor for a company.\\nIn an easy way, explain the basis of income tax.'"
      ]
     },
     "execution_count": 4,
     "metadata": {},
     "output_type": "execute_result"
    }
   ],
   "source": [
    "from langchain_core.prompts.prompt import PromptTemplate\n",
    "\n",
    "demo_template = ''' I want you to act as a acting financial advisor for a company.\n",
    "In an easy way, explain the basis of {financial_concept}.'''\n",
    "\n",
    "prompt = PromptTemplate(\n",
    "    input_variables=[\"financial_concept\"],\n",
    "    template=demo_template)\n",
    "\n",
    "prompt.format(financial_concept=\"income tax\")"
   ]
  },
  {
   "cell_type": "code",
   "execution_count": 5,
   "metadata": {},
   "outputs": [
    {
     "name": "stderr",
     "output_type": "stream",
     "text": [
      "c:\\Users\\udayr\\anaconda3\\envs\\langchain\\lib\\site-packages\\langchain_core\\_api\\deprecation.py:117: LangChainDeprecationWarning: The class `langchain_community.llms.openai.OpenAI` was deprecated in langchain-community 0.0.10 and will be removed in 0.2.0. An updated version of the class exists in the langchain-openai package and should be used instead. To use it run `pip install -U langchain-openai` and import as `from langchain_openai import OpenAI`.\n",
      "  warn_deprecated(\n"
     ]
    }
   ],
   "source": [
    "from langchain.llms.openai import OpenAI\n",
    "from langchain.chains import LLMChain\n",
    "\n",
    "llm = OpenAI(temperature=0.7)\n",
    "chain1 = LLMChain(llm=llm, prompt=prompt)"
   ]
  },
  {
   "cell_type": "code",
   "execution_count": 7,
   "metadata": {},
   "outputs": [
    {
     "data": {
      "text/plain": [
       "\"\\nGross domestic product (GDP) is a measure of the total economic output of a country. It represents the monetary value of all goods and services produced within a country's borders in a specific period of time, usually a year. GDP is often used as an indicator of a country's overall economic health and is a key factor in determining the standard of living and economic growth.\\n\\nThere are three main components that make up GDP: consumption, investment, and government spending. Consumption refers to the total amount of money spent by individuals and households on goods and services, such as food, housing, and transportation. Investment includes business spending on capital goods, such as machinery and equipment, as well as new construction and research and development. Government spending includes all expenditures on public goods and services, such as education, defense, and infrastructure.\\n\\nGDP is calculated by adding up the total value of all goods and services produced in a country, including both final goods and intermediate goods. Final goods are those that are consumed by end-users, while intermediate goods are used in the production of other goods and services. GDP also takes into account the value of exports and subtracts the value of imports, as these represent goods and services that are produced outside of the country.\\n\\nOne important thing to note is\""
      ]
     },
     "execution_count": 7,
     "metadata": {},
     "output_type": "execute_result"
    }
   ],
   "source": [
    "chain1.run(\"GPD\")"
   ]
  },
  {
   "cell_type": "code",
   "execution_count": 13,
   "metadata": {},
   "outputs": [
    {
     "data": {
      "text/plain": [
       "\" In a easy way translate the following sentence 'How are you' into \\nkannada\""
      ]
     },
     "execution_count": 13,
     "metadata": {},
     "output_type": "execute_result"
    }
   ],
   "source": [
    "## Language Translation\n",
    "template = ''' In a easy way translate the following sentence '{sentence}' into \n",
    "{target_language}'''\n",
    "language_prompt = PromptTemplate(\n",
    "    input_variables=[\"sentence\", \"target_language\"],\n",
    "    template=template\n",
    ")\n",
    "language_prompt.format(sentence=\"How are you\",target_language=\"kannada\")"
   ]
  },
  {
   "cell_type": "code",
   "execution_count": 22,
   "metadata": {},
   "outputs": [
    {
     "data": {
      "text/plain": [
       "{'sentence': 'Hello, How are you',\n",
       " 'target_language': 'kannada',\n",
       " 'text': '\\n\\nಹಲೋ, ನೀವು ಹೇಗಿದ್ದೀರಿ'}"
      ]
     },
     "execution_count": 22,
     "metadata": {},
     "output_type": "execute_result"
    }
   ],
   "source": [
    "chain2 = LLMChain(llm=llm, prompt=language_prompt)\n",
    "chain2({'sentence': \"Hello, How are you\",'target_language' : \"kannada\"})"
   ]
  },
  {
   "cell_type": "code",
   "execution_count": 23,
   "metadata": {},
   "outputs": [],
   "source": [
    "# FewShotPrompt Examples\n",
    "from langchain.prompts import PromptTemplate, FewShotPromptTemplate\n",
    "\n",
    "# first create the list of few shot examples.\n",
    "examples = [\n",
    "    {\"word\":\"happy\",\"antonym\":\"sad\"},\n",
    "    {\"word\":\"tall\", \"antonym\":\"shot\"}\n",
    "]\n",
    "\n",
    "# next, we specify the template to format the examples we have provided.\n",
    "# We use the PromptTemplate class for this\n",
    "example_formatter_template = \"\"\"\n",
    "        word: {word}\n",
    "        Antonym: {antonym}\n",
    "\"\"\"\n",
    "example_prompt = PromptTemplate(\n",
    "    input_variables=[\"word\",\"antonym\"],\n",
    "    template=example_formatter_template\n",
    ")"
   ]
  },
  {
   "cell_type": "code",
   "execution_count": 24,
   "metadata": {},
   "outputs": [],
   "source": [
    "# Finally, we create the `FewShotPromptTemplate` object.\n",
    "few_shot_prompt = FewShotPromptTemplate(\n",
    "    # These are the examples we want to insert into the prompt.\n",
    "    examples=examples,\n",
    "    # This is how we want to format the examples when we insert them into the prompt.\n",
    "    example_prompt=example_prompt,\n",
    "    # The prefix is some text that goes before the examples in the prompt.\n",
    "    # Usually, this consists of intructions.\n",
    "    prefix=\"Give the antonym of every input\\n\",\n",
    "    # The suffix is some text that goes after the examples in the prompt.\n",
    "    # Usually, this is where the user input will go\n",
    "    suffix=\"Word: {input}\\nAntonym: \",\n",
    "    # The input variables are the variables that the overall prompt expects.\n",
    "    input_variables=[\"input\"],\n",
    "    # The example_separator is the string we will use to join the prefix, examples, and suffix together with.\n",
    "    example_separator=\"\\n\",\n",
    ")"
   ]
  },
  {
   "cell_type": "code",
   "execution_count": 25,
   "metadata": {},
   "outputs": [
    {
     "name": "stdout",
     "output_type": "stream",
     "text": [
      "Give the antonym of every input\n",
      "\n",
      "\n",
      "        word: happy\n",
      "        Antonym: sad\n",
      "\n",
      "\n",
      "        word: tall\n",
      "        Antonym: shot\n",
      "\n",
      "Word: big\n",
      "Antonym: \n"
     ]
    }
   ],
   "source": [
    "print(few_shot_prompt.format(input=\"big\"))"
   ]
  },
  {
   "cell_type": "code",
   "execution_count": 26,
   "metadata": {},
   "outputs": [
    {
     "data": {
      "text/plain": [
       "{'input': 'big', 'text': 'small'}"
      ]
     },
     "execution_count": 26,
     "metadata": {},
     "output_type": "execute_result"
    }
   ],
   "source": [
    "chain = LLMChain(llm=llm, prompt=few_shot_prompt)\n",
    "chain({'input':'big'})"
   ]
  },
  {
   "cell_type": "code",
   "execution_count": null,
   "metadata": {},
   "outputs": [],
   "source": []
  }
 ],
 "metadata": {
  "kernelspec": {
   "display_name": "langchain",
   "language": "python",
   "name": "python3"
  },
  "language_info": {
   "codemirror_mode": {
    "name": "ipython",
    "version": 3
   },
   "file_extension": ".py",
   "mimetype": "text/x-python",
   "name": "python",
   "nbconvert_exporter": "python",
   "pygments_lexer": "ipython3",
   "version": "3.9.18"
  }
 },
 "nbformat": 4,
 "nbformat_minor": 2
}

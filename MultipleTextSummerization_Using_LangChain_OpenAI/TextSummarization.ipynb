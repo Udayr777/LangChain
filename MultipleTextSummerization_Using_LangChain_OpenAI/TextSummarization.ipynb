{
  "cells": [
    {
      "cell_type": "markdown",
      "metadata": {
        "id": "rFOM0l-m5I-b"
      },
      "source": [
        "## Text Summarization Using Langchain"
      ]
    },
    {
      "cell_type": "code",
      "execution_count": 14,
      "metadata": {
        "id": "_rIJm1zN5I-d"
      },
      "outputs": [],
      "source": [
        "import os\n",
        "open_api_key=\"\"\n",
        "os.environ[\"OPENAI_API_KEY\"]=open_api_key"
      ]
    },
    {
      "cell_type": "code",
      "execution_count": 15,
      "metadata": {
        "id": "Z1hiaqzQ5I-e"
      },
      "outputs": [],
      "source": [
        "## Basic Prompt Summarization\n",
        "from langchain.chat_models import ChatOpenAI\n",
        "from langchain.schema import(\n",
        "    AIMessage,\n",
        "    HumanMessage,\n",
        "    SystemMessage\n",
        ")"
      ]
    },
    {
      "cell_type": "code",
      "execution_count": 16,
      "metadata": {
        "id": "bmG_fFs35I-f"
      },
      "outputs": [],
      "source": [
        "speech=\"\"\"\n",
        "People across the country, involved in government, political, and social activities, are dedicating their time to make the ‘Viksit Bharat Sankalp Yatra’ (Developed India Resolution Journey) successful. Therefore, as a Member of Parliament, it was my responsibility to also contribute my time to this program. So, today, I have come here just as a Member of Parliament and your ‘sevak’, ready to participate in this program, much like you.\n",
        "\n",
        "In our country, governments have come and gone, numerous schemes have been formulated, discussions have taken place, and big promises have been made. However, my experience and observations led me to believe that the most critical aspect that requires attention is ensuring that the government’s plans reach the intended beneficiaries without any hassles. If there is a ‘Pradhan Mantri Awas Yojana’ (Prime Minister’s housing scheme), then those who are living in jhuggis and slums should get their houses. And he should not need to make rounds of the government offices for this purpose. The government should reach him. Since you have assigned this responsibility to me, about four crore families have got their ‘pucca’ houses. However, I have encountered cases where someone is left out of the government benefits. Therefore, I have decided to tour the country again, to listen to people’s experiences with government schemes, to understand whether they received the intended benefits, and to ensure that the programs are reaching everyone as planned without paying any bribes. We will get the real picture if we visit them again. Therefore, this ‘Viksit Bharat Sankalp Yatra’ is, in a way, my own examination. I want to hear from you and the people across the country whether what I envisioned and the work I have been doing aligns with reality and whether it has reached those for whom it was meant.\n",
        "\n",
        "It is crucial to check whether the work that was supposed to happen has indeed taken place. I recently met some individuals who utilized the Ayushman card to get treatment for serious illnesses. One person met with a severe accident, and after using the card, he could afford the necessary operation, and now he is recovering well. When I asked him, he said: “How could I afford this treatment? Now that there is the Ayushman card, I mustered courage and underwent an operation. Now I am perfectly fine.”  Such stories are blessings to me.\n",
        "\n",
        "The bureaucrats, who prepare good schemes, expedite the paperwork and even allocate funds, also feel satisfied that 50 or 100 people who were supposed to get the funds have got it. The funds meant for a thousand villages have been released. But their job satisfaction peaks when they hear that their work has directly impacted someone’s life positively. When they see the tangible results of their efforts, their enthusiasm multiplies. They feel satisfied. Therefore, ‘Viksit Bharat Sankalp Yatra’ has had a positive impact on government officers. It has made them more enthusiastic about their work, especially when they witness the tangible benefits reaching the people. Officers now feel satisfied with their work, saying, “I made a good plan, I created a file, and the intended beneficiaries received the benefits.” When they find that the money has reached a poor widow under the Jeevan Jyoti scheme and it was a great help to her during her crisis, they realise that they have done a good job. When a government officer listens to such stories, he feels very satisfied.\n",
        "\n",
        "There are very few who understand the power and impact of the ‘Viksit Bharat Sankalp Yatra’. When I hear people connected to bureaucratic circles talking about it, expressing their satisfaction, it resonates with me. I’ve heard stories where someone suddenly received 2 lakh rupees after the death of her husband, and a sister mentioned how the arrival of gas in her home transformed her lives. The most significant aspect is when someone says that the line between rich and poor has vanished. While the slogan ‘Garibi Hatao’ (Remove Poverty) is one thing, but the real change happens when a person says, “As soon as the gas stove came to my house, the distinction between poverty and affluence disappeared.\n",
        "\"\"\""
      ]
    },
    {
      "cell_type": "code",
      "execution_count": 37,
      "metadata": {
        "id": "NQySEnJ35I-f"
      },
      "outputs": [],
      "source": [
        "chat_messages=[\n",
        "    SystemMessage(content='You are an expert assistant with expertize in summarizing speeches'),\n",
        "    HumanMessage(content=f'Please provide a short and concise summary of the following speech:\\n TEXT: {speech}')\n",
        "]\n",
        "\n",
        "llm=ChatOpenAI(model_name='gpt-4-0125-preview', temperature=0.5)\n"
      ]
    },
    {
      "cell_type": "code",
      "execution_count": 40,
      "metadata": {
        "colab": {
          "base_uri": "https://localhost:8080/"
        },
        "id": "NRHQ75Es5I-g",
        "outputId": "aca14f65-fa87-48f6-f194-252ea76c3edd"
      },
      "outputs": [
        {
          "output_type": "execute_result",
          "data": {
            "text/plain": [
              "866"
            ]
          },
          "metadata": {},
          "execution_count": 40
        }
      ],
      "source": [
        "##total tokens\n",
        "llm.get_num_tokens(speech)"
      ]
    },
    {
      "cell_type": "code",
      "source": [
        "llm(chat_messages)"
      ],
      "metadata": {
        "colab": {
          "base_uri": "https://localhost:8080/"
        },
        "id": "KXg5C7MX_IHO",
        "outputId": "d7c43baa-7488-4e31-8072-3e8cd805df18"
      },
      "execution_count": 41,
      "outputs": [
        {
          "output_type": "execute_result",
          "data": {
            "text/plain": [
              "AIMessage(content=\"The speech by a Member of Parliament emphasizes the importance of the ‘Viksit Bharat Sankalp Yatra’ (Developed India Resolution Journey), a program aimed at ensuring government schemes reach their intended beneficiaries effectively. The speaker highlights their commitment to personally ensuring that programs like the ‘Pradhan Mantri Awas Yojana’ (Prime Minister’s Housing Scheme) genuinely benefit those in need, such as families living in slums, without them having to navigate bureaucratic hurdles. The MP shares their plan to tour the country to assess the impact of these schemes firsthand, viewing this journey as a self-examination to align their efforts with the reality of the beneficiaries' experiences. The speech also reflects on the positive feedback from beneficiaries of various schemes, such as the Ayushman card for healthcare, which reinforces the value and impact of these initiatives. Furthermore, the speaker notes the increased job satisfaction among government officers who see the tangible benefits of their work reaching people, enhancing their enthusiasm and commitment to their roles. The speech concludes by underscoring the transformative power of the ‘Viksit Bharat Sankalp Yatra’ in bridging the gap between rich and poor, and the profound social impact of government schemes on improving the lives of citizens.\")"
            ]
          },
          "metadata": {},
          "execution_count": 41
        }
      ]
    },
    {
      "cell_type": "code",
      "execution_count": 42,
      "metadata": {
        "colab": {
          "base_uri": "https://localhost:8080/"
        },
        "id": "hU_qNgwb5I-h",
        "outputId": "f38de40f-9d29-46c9-b329-94a323f78949"
      },
      "outputs": [
        {
          "output_type": "execute_result",
          "data": {
            "text/plain": [
              "\"The speech by a Member of Parliament focuses on the 'Viksit Bharat Sankalp Yatra' (Developed India Resolution Journey), emphasizing the importance of ensuring government schemes reach their intended beneficiaries effectively. The speaker highlights efforts to provide housing under the 'Pradhan Mantri Awas Yojana' and shares plans to tour the country to assess the impact of various government programs firsthand. Success stories from beneficiaries of schemes like the Ayushman card and Jeevan Jyoti scheme are shared to illustrate the positive impact of these initiatives. The speech also notes the increased job satisfaction among bureaucrats who see their work making a tangible difference in people's lives. The speaker underlines the transformative power of the 'Viksit Bharat Sankalp Yatra' in bridging the gap between rich and poor and fostering a sense of accomplishment among government officials and beneficiaries alike.\""
            ]
          },
          "metadata": {},
          "execution_count": 42
        }
      ],
      "source": [
        "llm(chat_messages).content"
      ]
    },
    {
      "cell_type": "code",
      "execution_count": 43,
      "metadata": {
        "colab": {
          "base_uri": "https://localhost:8080/"
        },
        "id": "ADYye0b75I-h",
        "outputId": "6b403a96-ff91-4e1b-f22c-01fea6ec404f"
      },
      "outputs": [
        {
          "output_type": "stream",
          "name": "stdout",
          "text": [
            "The speaker, a Member of Parliament, discusses their commitment to the 'Viksit Bharat Sankalp Yatra' (Developed India Resolution Journey), aimed at ensuring government schemes effectively reach their intended beneficiaries without corruption or obstacles. They highlight their personal involvement in auditing the delivery of these schemes by touring the country, listening to people's experiences, and verifying the impact of programs like the 'Pradhan Mantri Awas Yojana' (Prime Minister's Housing Scheme). The speaker shares success stories, such as people benefiting from the Ayushman healthcare card, to illustrate the positive outcomes of these efforts. They also emphasize the motivational impact this initiative has had on government officers, who feel a sense of satisfaction and enthusiasm when seeing the tangible benefits of their work in people's lives. The speaker concludes by reflecting on the transformative power of the 'Viksit Bharat Sankalp Yatra', noting its role in bridging the gap between rich and poor, and highlighting its broader social impact.\n"
          ]
        }
      ],
      "source": [
        "##get_summary\n",
        "print(llm(chat_messages).content)"
      ]
    },
    {
      "cell_type": "markdown",
      "metadata": {
        "id": "JSTJlweo5I-h"
      },
      "source": [
        "## Prompt Templates Text Summarization"
      ]
    },
    {
      "cell_type": "code",
      "execution_count": 44,
      "metadata": {
        "id": "xP7jTFRG5I-i"
      },
      "outputs": [],
      "source": [
        "\n",
        "from langchain.chains import LLMChain\n",
        "from langchain import PromptTemplate"
      ]
    },
    {
      "cell_type": "code",
      "execution_count": 45,
      "metadata": {
        "id": "QWCEiSov5I-i"
      },
      "outputs": [],
      "source": [
        "generic_template='''\n",
        "Write a summary of the following speech:\n",
        "Speech : `{speech}`\n",
        "Translate the precise summary to {language}.\n",
        "\n",
        "'''\n",
        "prompt=PromptTemplate(\n",
        "    input_variables=['speech','language'],\n",
        "    template=generic_template\n",
        ")"
      ]
    },
    {
      "cell_type": "code",
      "execution_count": 46,
      "metadata": {
        "colab": {
          "base_uri": "https://localhost:8080/"
        },
        "id": "VngTfEzd5I-i",
        "outputId": "2541d53e-3b83-4b15-dd72-a9f590261d01"
      },
      "outputs": [
        {
          "output_type": "execute_result",
          "data": {
            "text/plain": [
              "'\\nWrite a summary of the following speech:\\nSpeech : `\\nPeople across the country, involved in government, political, and social activities, are dedicating their time to make the ‘Viksit Bharat Sankalp Yatra’ (Developed India Resolution Journey) successful. Therefore, as a Member of Parliament, it was my responsibility to also contribute my time to this program. So, today, I have come here just as a Member of Parliament and your ‘sevak’, ready to participate in this program, much like you.\\n\\nIn our country, governments have come and gone, numerous schemes have been formulated, discussions have taken place, and big promises have been made. However, my experience and observations led me to believe that the most critical aspect that requires attention is ensuring that the government’s plans reach the intended beneficiaries without any hassles. If there is a ‘Pradhan Mantri Awas Yojana’ (Prime Minister’s housing scheme), then those who are living in jhuggis and slums should get their houses. And he should not need to make rounds of the government offices for this purpose. The government should reach him. Since you have assigned this responsibility to me, about four crore families have got their ‘pucca’ houses. However, I have encountered cases where someone is left out of the government benefits. Therefore, I have decided to tour the country again, to listen to people’s experiences with government schemes, to understand whether they received the intended benefits, and to ensure that the programs are reaching everyone as planned without paying any bribes. We will get the real picture if we visit them again. Therefore, this ‘Viksit Bharat Sankalp Yatra’ is, in a way, my own examination. I want to hear from you and the people across the country whether what I envisioned and the work I have been doing aligns with reality and whether it has reached those for whom it was meant.\\n\\nIt is crucial to check whether the work that was supposed to happen has indeed taken place. I recently met some individuals who utilized the Ayushman card to get treatment for serious illnesses. One person met with a severe accident, and after using the card, he could afford the necessary operation, and now he is recovering well. When I asked him, he said: “How could I afford this treatment? Now that there is the Ayushman card, I mustered courage and underwent an operation. Now I am perfectly fine.”  Such stories are blessings to me.\\n\\nThe bureaucrats, who prepare good schemes, expedite the paperwork and even allocate funds, also feel satisfied that 50 or 100 people who were supposed to get the funds have got it. The funds meant for a thousand villages have been released. But their job satisfaction peaks when they hear that their work has directly impacted someone’s life positively. When they see the tangible results of their efforts, their enthusiasm multiplies. They feel satisfied. Therefore, ‘Viksit Bharat Sankalp Yatra’ has had a positive impact on government officers. It has made them more enthusiastic about their work, especially when they witness the tangible benefits reaching the people. Officers now feel satisfied with their work, saying, “I made a good plan, I created a file, and the intended beneficiaries received the benefits.” When they find that the money has reached a poor widow under the Jeevan Jyoti scheme and it was a great help to her during her crisis, they realise that they have done a good job. When a government officer listens to such stories, he feels very satisfied.\\n\\nThere are very few who understand the power and impact of the ‘Viksit Bharat Sankalp Yatra’. When I hear people connected to bureaucratic circles talking about it, expressing their satisfaction, it resonates with me. I’ve heard stories where someone suddenly received 2 lakh rupees after the death of her husband, and a sister mentioned how the arrival of gas in her home transformed her lives. The most significant aspect is when someone says that the line between rich and poor has vanished. While the slogan ‘Garibi Hatao’ (Remove Poverty) is one thing, but the real change happens when a person says, “As soon as the gas stove came to my house, the distinction between poverty and affluence disappeared.\\n`\\nTranslate the precise summary to Kannada.\\n\\n'"
            ]
          },
          "metadata": {},
          "execution_count": 46
        }
      ],
      "source": [
        "prompt.format(speech=speech,language='Kannada')"
      ]
    },
    {
      "cell_type": "code",
      "execution_count": 47,
      "metadata": {
        "id": "6iPzrqYY5I-k"
      },
      "outputs": [],
      "source": [
        "complete_prompt=prompt.format(speech=speech,language='Kannada')"
      ]
    },
    {
      "cell_type": "code",
      "execution_count": 48,
      "metadata": {
        "colab": {
          "base_uri": "https://localhost:8080/"
        },
        "id": "FMXCNlzs5I-k",
        "outputId": "79622829-b9d5-44ac-cd71-7b37b6d3ec10"
      },
      "outputs": [
        {
          "output_type": "execute_result",
          "data": {
            "text/plain": [
              "886"
            ]
          },
          "metadata": {},
          "execution_count": 48
        }
      ],
      "source": [
        "llm.get_num_tokens(complete_prompt)"
      ]
    },
    {
      "cell_type": "code",
      "execution_count": 49,
      "metadata": {
        "id": "c2A3HwZs5I-k"
      },
      "outputs": [],
      "source": [
        "llm_chain=LLMChain(llm=llm,prompt=prompt)\n",
        "summary=llm_chain.run({'speech':speech,'language':'Kannada'})"
      ]
    },
    {
      "cell_type": "code",
      "execution_count": 50,
      "metadata": {
        "colab": {
          "base_uri": "https://localhost:8080/"
        },
        "id": "EUN-t0iS5I-k",
        "outputId": "d596cbfd-dfd9-49f4-e6ea-c4bc176848c5"
      },
      "outputs": [
        {
          "output_type": "execute_result",
          "data": {
            "text/plain": [
              "\"ದೇಶದಾದ್ಯಂತ ಸರ್ಕಾರ, ರಾಜಕೀಯ ಮತ್ತು ಸಾಮಾಜಿಕ ಚಟುವಟಿಕೆಗಳಲ್ಲಿ ತೊಡಗಿರುವ ಜನರು ‘ವಿಕ್ಸಿತ ಭಾರತ ಸಂಕಲ್ಪ ಯಾತ್ರೆ’ಯನ್ನು ಯಶಸ್ವಿಯಾಗಿ ಮಾಡಲು ತಮ್ಮ ಸಮಯವನ್ನು ಮೀಸಲಿಡುತ್ತಿದ್ದಾರೆ. ಹೀಗಾಗಿ, ಸಂಸದರಾಗಿರುವ ನನ್ನ ಜವಾಬ್ದಾರಿಯೂ ಸಹ ಈ ಕಾರ್ಯಕ್ರಮದಲ್ಲಿ ನನ್ನ ಸಮಯವನ್ನು ಕೊಡುವುದು ಆಗಿತ್ತು. ಇಂದು ನಾನು ನಿಮ್ಮ 'ಸೇವಕ'ನಾಗಿ ಮತ್ತು ಸಂಸದರಾಗಿ ನಿಮ್ಮ ಮುಂದೆ ಬಂದಿದ್ದೇನೆ.\\n\\nನಮ್ಮ ದೇಶದಲ್ಲಿ ಸರ್ಕಾರಗಳು ಬದಲಾಗಿವೆ, ಅನೇಕ ಯೋಜನೆಗಳು ರೂಪಿಸಲಾಗಿವೆ, ಚರ್ಚೆಗಳು ನಡೆದಿವೆ, ಮತ್ತು ದೊಡ್ಡ ಭರವಸೆಗಳು ನೀಡಲಾಗಿವೆ. ಆದರೆ, ಸರ್ಕಾರದ ಯೋಜನೆಗಳು ಉದ್ದೇಶಿತ ಪ್ರಯೋಜನಗಳಿಗೆ ತಲುಪಬೇಕು ಎಂಬುದು ಮುಖ್ಯ. ನಾನು ಮತ್ತೊಮ್ಮೆ ದೇಶ ಸುತ್ತಲು ನಿರ್ಧರಿಸಿದ್ದೇನೆ, ಜನರು ಸರ್ಕಾರದ ಯೋಜನೆಗಳಿಂದ ಲಾಭಗಳನ್ನು ಪಡೆದಿದ್ದಾರೆಯೇ ಮತ್ತು ಯೋಜನೆಗಳು ಎಲ್ಲರಿಗೂ ತಲುಪಿದೆಯೇ ಎಂಬುದನ್ನು ಆಲಿಸಲು. ಇದು ನನ್ನದೇ ಆದ ಪರೀಕ್ಷೆಯಾಗಿದೆ.\\n\\nಅಯುಷ್ಮಾನ್ ಕಾರ್ಡ್ ಬಳಸಿ ಚಿಕಿತ್ಸೆ ಪಡೆದ ಜನರ ಕಥೆಗಳು ನನಗೆ ಆಶೀರ್ವಾದದಂತಿವೆ. ಸರ್ಕಾರದ ಅಧಿಕಾರಿಗಳು ಯೋಜನೆಗಳನ್ನು ರೂಪಿಸಿ, ಹಣವನ್ನು ಬಿಡುಗಡೆ ಮಾಡುವುದರಿಂದ ಅವರು ತಮ್ಮ ಕೆಲಸದಿಂದ ಸಂತೃಪ್ತಿ ಪಡುತ್ತಾರೆ, ಮುಖ್ಯವಾಗಿ ತಮ್ಮ ಪ್ರಯತ್ನಗಳು ಜನರಿಗೆ ನೇರವಾಗಿ ಪ್ರಯೋಜನ ತಲುಪಿದಾಗ. ‘ವಿಕ್ಸಿತ ಭಾರತ ಸಂಕಲ್ಪ ಯಾತ್ರೆ’ಯು ಅಧಿಕಾರಿಗಳಲ್ಲಿ ಉತ್ಸಾಹವನ್ನು ಮತ್ತು ಸಂತೃಪ್ತಿಯನ್ನು ಹೆಚ್ಚಿಸಿದೆ.\\n\\nಈ ಯಾತ್ರೆಯ ಶಕ್ತಿ ಮತ್ತು ಪ್ರಭಾವವನ್ನು ಅರ್ಥಮಾಡಿಕೊಳ್ಳುವವರು ಬಹಳ ಕಡಿಮೆ. ಜನರಿಗೆ ಸಹಾಯ ಮಾಡಿದ ಕಥೆಗಳು ಮತ್ತು ಬಡತನ ಮತ್ತು ಸಂಪನ್ಮೂಲದ ನಡುವಿನ ವ್ಯತ್ಯಾಸವನ್ನು ಅಳಿಸಿದ ಘಟನೆಗಳು ನನಗೆ ಪ್ರೇರಣೆಯಾಗಿವೆ.\""
            ]
          },
          "metadata": {},
          "execution_count": 50
        }
      ],
      "source": [
        "summary"
      ]
    },
    {
      "cell_type": "markdown",
      "metadata": {
        "id": "85lni7jq5I-l"
      },
      "source": [
        "## StuffDocumentChain Text Summarization"
      ]
    },
    {
      "cell_type": "code",
      "source": [
        "pip install PyPDF2"
      ],
      "metadata": {
        "colab": {
          "base_uri": "https://localhost:8080/"
        },
        "id": "GtP7vvjAU6TZ",
        "outputId": "ff83a0e3-6d1f-4419-de23-52527eb1c13d"
      },
      "execution_count": 52,
      "outputs": [
        {
          "output_type": "stream",
          "name": "stdout",
          "text": [
            "Collecting PyPDF2\n",
            "  Downloading pypdf2-3.0.1-py3-none-any.whl (232 kB)\n",
            "     ---------------------------------------- 0.0/232.6 kB ? eta -:--:--\n",
            "     - -------------------------------------- 10.2/232.6 kB ? eta -:--:--\n",
            "     ------ ------------------------------ 41.0/232.6 kB 388.9 kB/s eta 0:00:01\n",
            "     ------------------- ---------------- 122.9/232.6 kB 901.1 kB/s eta 0:00:01\n",
            "     ------------------------------------ - 225.3/232.6 kB 1.4 MB/s eta 0:00:01\n",
            "     -------------------------------------- 232.6/232.6 kB 1.3 MB/s eta 0:00:00\n",
            "Requirement already satisfied: typing_extensions>=3.10.0.0 in c:\\users\\udayr\\anaconda3\\envs\\langchain\\lib\\site-packages (from PyPDF2) (4.9.0)\n",
            "Installing collected packages: PyPDF2\n",
            "Successfully installed PyPDF2-3.0.1\n",
            "Note: you may need to restart the kernel to use updated packages.\n"
          ]
        }
      ]
    },
    {
      "cell_type": "code",
      "execution_count": 53,
      "metadata": {
        "id": "3QotO2J-5I-l"
      },
      "outputs": [],
      "source": [
        "from PyPDF2 import PdfReader"
      ]
    },
    {
      "cell_type": "code",
      "execution_count": 54,
      "metadata": {
        "id": "MtPaT8YD5I-l"
      },
      "outputs": [],
      "source": [
        "# provide the path of  pdf file/files.\n",
        "pdfreader = PdfReader('apjspeech.pdf')"
      ]
    },
    {
      "cell_type": "code",
      "execution_count": 55,
      "metadata": {
        "id": "C9EyhWcQ5I-l"
      },
      "outputs": [],
      "source": [
        "from typing_extensions import Concatenate\n",
        "# read text from pdf\n",
        "text = ''\n",
        "for i, page in enumerate(pdfreader.pages):\n",
        "    content = page.extract_text()\n",
        "    if content:\n",
        "        text += content"
      ]
    },
    {
      "cell_type": "code",
      "execution_count": 56,
      "metadata": {
        "colab": {
          "base_uri": "https://localhost:8080/"
        },
        "id": "N7HVgnWk5I-m",
        "outputId": "47612658-2483-4bee-ebbb-862e10dd0b57"
      },
      "outputs": [
        {
          "output_type": "execute_result",
          "data": {
            "text/plain": [
              "'A P J Abdul Kalam Departing speech \\n \\n \\nFriends, I am delighted to address you all, in the country and those livi ng abroad, after \\nworking with you and completing five beautiful and eventful years in Rashtrapati \\nBhavan. Today, it is indeed a thanks giving occasion. I would like to narr ate, how I \\nenjoyed every minute of my tenure enriched by the wonderful assoc iation from each one \\nof you, hailing from different walks of life, be it politics, sci ence and technology, \\nacademics, arts, literature, business, judiciary, administration, local bodies, farming, \\nhome makers, special children, media and above all from the youth and st udent \\ncommunity who are the future wealth of our country. During my intera ction at \\nRashtrapati Bhavan in Delhi and at every state and union territor y as well as through my \\nonline interactions, I have many unique experiences to share with you, which signify the \\nfollowing important messages: \\n \\n1. Accelerate development : Aspiration of the youth, \\n \\n2. Empower villages, \\n \\n3. Mobilize rural core competence for competitiveness, \\n \\n4. Seed to Food: Backbone for agricultural growth \\n \\n5. Defeat problems and succeed, \\n \\n6. Overcome problems through partnership, \\n \\n7. Courage in combating calamities, \\n \\n8. Connectivity for societal transformation, \\n \\n9. Defending the nation: Our pride and \\n \\n10. Youth movement for Developed India 2020. \\n \\nNow let me share with you each of the messages. \\n \\nAccelerate Development: Aspiration of the youth \\nWhile there were many significant events during my tenure, a que stion from a little girl \\nAnukriti of Sri Sathya Sai Jagriti Vidya Mandir School, of Dar wa village from Haryana, \\nduring children’s visit to Rashtrapati Bhavan on May 22, 2006, rings in my  mind ever \\nafter. \\n \\nAnukriti asked me “why India cannot become a developed nation before the year 2020”. I \\nappreciated the question and said it was indeed a thoughtful question and as sured her that \\nthat her dream would be taken to the highest institution of the nation and we would work for it to achieve before 2020. This question reflects how the desire t o live in developed \\nIndia has entered into the minds of the youth. The same feelings are  echoed by over \\nfifteen lakh youth, whom I have met so far and who represent the drea m of the 540 \\nmillion youth of the nation. The aspirations of the young to live in a prosperous, safe and \\nproud India should be the guiding factor in whatever profession we contribute. \\n \\nEmpower Villages \\nFriends, I recall my visit to Nagaland on 26th October 2002, soon after m y assuming \\noffice as President. It was a unique experience for me at Khuza ma village to meet tribal \\nvillage council members and discuss with them the village progress  and the dream of \\nvillage citizens. I was very happy to see the empowered village  council functioning with \\nfinancial powers and taking decisions. I saw a prosperous village with fruits and \\nvegetables production. However, there is a need for providing physical c onnectivity in \\nNagaland through quality roads for enabling faster movement of produ cts from villages \\nto the market. That meeting gave me a powerful message about the t ransformation which \\ncan take place to the 600,000 villages of India, if all the villages a re empowered to deal \\nwith their development and are well connected among themselves and wit h the urban \\nsocieties. \\n \\nMobilizing rural core competence for competitiveness \\nNow I would like to talk about the initiative of Periyar Maniammai  College of \\nTechnology for Women, Vallam, Tanjore of Providing Urban Amenities in Rural Areas \\n(PURA) complex involving 65 villages with a population of 3 lakhs. This inc ludes \\nprovision of three connectivities - physical, electronic and knowledge  - leading to \\neconomic connectivity. Periyar PURA has health care centers, pr imary to post graduate \\nlevel education and vocational training centers. This has resulted i n large-scale \\nemployment generation and creation of number of entrepreneurs with the  active support \\nof 1000 self-help groups. Two hundred acres of waste land has been develope d into a \\ncultivable land. The villagers are busy in cultivation, planting Jatropha, herbal and \\nmedicinal plants, power generation using bio-mass, food processing and above all \\nrunning marketing centers. It provides a sustainable economic developm ent model for the \\nwhole region. \\n \\nDuring the last eight months, people of Periyar PURA villages technologically supported \\nby Periyar Maniammai College of Engineering for Women have w orked with experts \\nfrom Japan External Trade Organisation (JETRO) on various products, for  which core \\ncompetence and raw material are available in Thanjavur district. They developed \\ninternationally competitive prototypes for 55 life style products wi th support of JETRO \\nspecialists and feedback from exhibitions at Delhi and Tokyo. This co -operative venture \\nhas enhanced the innovative ability of the people of all the 65 villages  enabling them to \\ndevelop and produce internationally acceptable products. I have seen si milar type of \\nPURA being established in many states. The whole country needs 7000 PU RA to \\nbridging the rural – urban divide. \\n \\nSeed to Food: Backbone for agricultural growth Let me now share with you, the enriching experience I had, whil e meeting more than \\n6000 farmers from different States and Union Territories visitin g Rashtrapati Bhavan. \\nThey evinced keen interest in the Mughal Gardens, the Herbal Gardens , the Spiritual \\nGarden, the Musical Garden, the Bio-diesel garden and the Nutrition Garden and interact \\nwith the Horticultural specialists. Recently, during my address to the agricultural \\nscientists while participating in a National Symposium on “Agri culture Cannot Wait”, I \\nsummarized the many practical suggestions given by farmers. W e have to double the \\nagricultural production with reduced land, reduced water resources and re duced \\nmanpower and improve the economic conditions of the nation through the principle  of \\n“Seed to Food” since agriculture is the backbone of the nation. We should em power the \\nfarmers to protect and nurture the fertile land for second green re volution. Meeting the \\nScientists and the Farmers has given me the confidence \\nthat the nation is poised to increase the agricultural GDP growth by atleast 4% per annum \\nthrough the partnership of farmers and agricultural scientists a nd industries particularly \\nfor value addition. \\n \\nDefeat the problems and succeed \\nOn the evening of February 24, 2007, at Coimbatore, I had a very beautif ul experience. \\nAs I got ready for meeting the first person out of twenty appoint ments, a wheel chair was \\nin sight with a smiling person probably in his late fifties; unfortunately he has no hands \\nand legs. His radiant face was revealing his happy state of mi nd. He introduced himself \\nas Vidwan Coimbatore SR Krishna Murthy. I greeted him and asked him  how this had \\nhappened. He smilingly said that it was from by birth. He thanked G od, his parents, \\nteachers and many others for giving him confidence, training and he lp. I asked him, what \\nI could do for him? He said, “I don’t need anything from you. I would like to sing in fr ont \\nof you”. I readily agreed. He sang melodiously the Saint Thyagraj a’s pancha ratna kriti \\nentharo mahanubavulu in Sriragam giving me a glimpse of his talent. I was quite  touched. \\nWhat is the message? Despite being physically challenged, the latent talent of music \\ncould blossom in this \\nperson with his positive attitude and perseverance, encouraged by the pa rents, teachers, \\nacademics and rasikas. Now he wants to give, give and give his art to inspire others. Of \\ncourse, by his merit of music, in July 2007, he performed in the Rashtra pati Bhavan art \\ntheatre. \\n \\nOvercome the impact of disaster through partnership \\nI had the opportunity to experience the Indomitable Spirit of the people  and children of \\nJammu & Kashmir even as they were just recovering from the de vastating earthquake in \\n2005. I visited Urusa village on 26th November 2005 which has been adopted by the  \\nWestern Air Command, Air Force for providing relief and medical aid to the residents of \\nthat area. When I went there, I found that the school building had been severely  damaged. \\nI met all the school children and the village citizen of Urusa. T he villagers apprised me of \\ntheir losses and had all praise for Army and Air Force role in rescue and relief operations \\nalong with state government. I appreciate the courage of the people of Urusa in defeating \\ntheir problems. They have actually become the master of the probl em rather than \\nallowing problems to become their master. Despite the severe l oss due to the earthquake, the children and the members of the village participated in the reli ef operation with the \\nArmed Forces \\nbravely and were smiling when I went to meet them. They interact ed with me and said \\nthat the school was functional in the temporary tents. Here, I also witnessed the \\nparticipation of acting Chief Justice of Jammu & Kashmir along with State Government \\nauthorities in on-the-spot settlement of relief grants to be provide d to the victims whose \\nhouses had been damaged in the earth quake. I have experienced many s uch acts of \\ncourage from our citizens when faced with severe challenges. \\n \\nCourage in combating calamities \\nIn 2005, I met the Tribal Council Leaders, Students, Children of Chuckchucha  village \\nduring my visit to Car Nicobar Islands. While various reconstruction a nd rehabilitation \\nactivities were in progress, during the discussions with the members  of tribal council, I \\nrealized the unique trait among the Car-Nicobar islanders. Even thoug h there were many \\nhuman losses due to the Tsunami of 26 Dec 2004, the tribal islanders had  taken \\npossession of affected victims as their children and there is nothi ng like orphanage in \\nCar-Nicobar Islands. Touched by their courage, I composed few vers es called “Sea \\nWaves” which reads as follows: \\nSea Waves \\n \\nWe are the children of Sea waves, \\nSea waves are my friends. \\nWhen they become angry, \\nSea waves give the challenges. \\nGod has given the courage, \\nTo challenge the sea waves. \\nAnd we will succeed, \\nWe will succeed \\nWith Almighty’s grace. \\nAll the members who were gathered in the village sang the poem  with me and exhibited \\nlots of courage and enthusiasm even though they had gone through severe  suffering \\nduring the Tsunami. \\n \\nConnectivity for societal transformation \\nI addressed the Pan African Parliament on 16 September 2004, at Johanne sburg, South \\nAfrica. This was attended by 53 member countries of the Africa n Union, where I \\nproposed the concept of Pan African e-Network for providing seamless and integrated \\nsatellite, fiber optics and wireless network connecting 53 African countries at an \\nestimated cost of US $ 100 million. \\n \\nAs part of the project 12 universities (7 from India and 5 from Afri ca), 17 Super \\nSpecialty Hospitals (12 from India and 5 from Africa), 53 tele-me dicine centers and 53 \\ntele-education centres in Africa will be connected. The pilot proj ect on tele-education and \\ntele-medicine in Ethiopia has already been commissioned. Indira Gandh i National Open \\nUniversity has taken up the MBA Course for 34 Ethiopian students of Addis  Ababa and \\nHarmaya Universities. As regards, tele-medicine, the special ists from CARE Hospital, Hyderabad are providing one-hour live tele-consultation to doctors in B lack Lion \\nHospital, Addis Ababa in Cardiology and Radiology since November 2006. Using the \\nPan African network the Heads of the State in all the 53 countries  will be connected for \\ninstant communication. I am extremely happy that Indian experience  in bringing the \\nbenefits of technology to the people has enabled us to work with Afric a to bring societal \\ntransformation in the African continent. \\n \\nDefending the nation: Our pride \\nI visited KUMAR in Siachen Glacier located at 17,000 feet altitude  held by the Indian \\nArmy, had a memorable underwater journey in INS Sindhurakshak and flew  in a Sukhoi-\\n30 fighter experiencing 2.5 g. In these three experiences, I personal ly felt proud of our \\never vigilant Soldiers, Sailors and Air Warriors performing their  tasks beyond the call of \\ntheir duty even in the most adverse circumstances natural and man m ade. During the last \\nfive years, I had an opportunity to present colours to many regime nts, participate in \\nnumber of passing out parades, meet the troops who were going to undertake  peace \\nmissions and interact with the family members of our Defence F orces. Our Defence \\nForces are in a beautiful mission. When the nation sleeps during night , Members of our \\nDefence teams are awake to guard us and remain vigilant to counte r any threat. The \\nNation cherishes the valour, commitment and devotion to duty of our Defenc e Forces. \\nSimilarly, I had opportunities to interact \\nwith members of our para-military forces, central and state poli ce personnel including \\ninternal security forces who are making immense contribution in au gmenting the safety \\nand security of our citizens under difficult conditions. \\n \\nYouth movement for Developed India 2020 \\nRecently, in Hyderabad, I met a group of citizens who are putting i nto practice the motto \\nof transforming of our youth into enlightened citizen. The Lead India 2020 Found ation \\ncreated by Dr. N.B. Sudershan at Hyderabad is training thousands of s tudents in many \\ndistricts of Andhra Pradesh in partnership with the District Adm inistration. Particularly, I \\nhappened to know the transformation which has taken place among the students  of \\nMedak district. As per the district authorities the impact of the  training on the students is \\nvisible in terms of self-discipline, love for their parents and tea chers shedding of stage \\nfear and recognition of their duties towards the nation. I talke d to Ms. Padma, a student \\nleader from Andhra Pradesh Tribal Welfare School, Nalgonda who relat ed how she \\nweaned her father away from smoking after imbibing the spirit of  the 10 point oath from \\nthe Lead India Training Camp. This gives me an assurance that the  youth of our country \\nare on the right path \\nthrough this mission oriented programme. With the ignited minds of the  540 million \\nyouth below the age of 25, which I consider is the most powerful resour ce on the earth, \\nunder the earth and above the earth, we have to empower the youth through va lue based \\neducation and leadership. \\n \\nConclusion \\nI was touched by the variety of Indian panorama, emotional content of  the tune, cultural \\ndiversity and unity of minds in the vast land of ours. I have cited thes e examples just to \\ngive a glimpse of the richness of our tradition and effort being take n by different agencies to preserve it. There are also many new adventures by instituti ons and individuals. I have \\nexperienced many of them and learnt a lot about my country and our peopl e. Even while \\npursuing our economic growth, we need to do a lot to preserve the rich and diverse \\ntreasures of our culture and civilization. It is our duty for our fut ure generations. This has \\nto be done in a much larger scale through countrywide participatio n of multiple \\ninstitutions. Our country is blessed with natural resources, has shown c onsiderable \\nprogress in the last sixty years, and above all we have hard wor king people particularly \\nthe power of the 540 million youth of the country. Every sector of our count ry has given \\nme the \\nconfidence that India can become a developed nation well before 2020. Whomsoeve r, I \\nmet they constantly ask what they can give to the nation. We should c onstantly strive to \\nempower such members of the society. With this spirit, I am extr emely happy that we are \\non the right path. Here I am reminded of a famous poem: \\n\"When you wish upon a star, \\nMakes no difference who you are, \\nAnything your heart desires, \\nWill come to you” \\nThis poem is true to all of us, and particularly for our youth and i f they aim great, I am \\nsure they will reach close to the target or the target. \\n \\nMy dear citizens, let us resolve to continue to work for realizing the missions of \\ndeveloped India 2020 with the following distinctive profile. \\n \\n1. A Nation where the rural and urban divide has reduced to a thin line. \\n \\n2. A Nation where there is an equitable distribution and adequate acce ss to energy and \\nquality water. \\n \\n3. A Nation where agriculture, industry and service sector work together in sym phony. \\n \\n4. A Nation where education with value system is not denied to any meritorious \\ncandidates because of societal or economic discrimination. \\n \\n5. A Nation which is the best destination for the most talented s cholars, scientists, and \\ninvestors. \\n \\n6. A Nation where the best of health care is available to all. \\n \\n7. A Nation where the governance is responsive, transparent and corruption free. \\n \\n8. A Nation where poverty has been totally eradicated, illiterac y removed and crimes \\nagainst women and children are absent and none in the society feels alienated. \\n \\n9. A Nation that is prosperous, healthy, secure, peaceful and happy a nd continues with a \\nsustainable growth path. \\n 10. A Nation that is one of the best places to live in and is proud of its leadership. \\n \\nFinally let me thank each one of you for showering your love and aff ection on me \\nthroughout the last five years by your cooperation and support. \\n \\nDear Citizens, I conclude my address by sharing with you my mission in life which is to \\nbring connectivity between billion hearts and minds of the people of Indi a in our \\nmulticultural society and to embed the self confidence that \"we c an do it\". I will be \\nalways with you, dear citizens, in the great mission of making Indi a a developed nation \\nbefore 2020. \\n \\nMay God bless you. \\n \\nJai hind. \\nDr. A. P. J. Abdul Kalam \\nwww.presidentofindia.nic.in '"
            ]
          },
          "metadata": {},
          "execution_count": 56
        }
      ],
      "source": [
        "text"
      ]
    },
    {
      "cell_type": "code",
      "execution_count": 57,
      "metadata": {
        "id": "0IiWMAWp5I-m"
      },
      "outputs": [],
      "source": [
        "from langchain.docstore.document import Document"
      ]
    },
    {
      "cell_type": "code",
      "execution_count": 58,
      "metadata": {
        "colab": {
          "base_uri": "https://localhost:8080/"
        },
        "id": "GSJdTP9F5I-m",
        "outputId": "e8e31956-2bc3-4264-8c74-40f92106f3a7"
      },
      "outputs": [
        {
          "output_type": "execute_result",
          "data": {
            "text/plain": [
              "[Document(page_content='A P J Abdul Kalam Departing speech \\n \\n \\nFriends, I am delighted to address you all, in the country and those livi ng abroad, after \\nworking with you and completing five beautiful and eventful years in Rashtrapati \\nBhavan. Today, it is indeed a thanks giving occasion. I would like to narr ate, how I \\nenjoyed every minute of my tenure enriched by the wonderful assoc iation from each one \\nof you, hailing from different walks of life, be it politics, sci ence and technology, \\nacademics, arts, literature, business, judiciary, administration, local bodies, farming, \\nhome makers, special children, media and above all from the youth and st udent \\ncommunity who are the future wealth of our country. During my intera ction at \\nRashtrapati Bhavan in Delhi and at every state and union territor y as well as through my \\nonline interactions, I have many unique experiences to share with you, which signify the \\nfollowing important messages: \\n \\n1. Accelerate development : Aspiration of the youth, \\n \\n2. Empower villages, \\n \\n3. Mobilize rural core competence for competitiveness, \\n \\n4. Seed to Food: Backbone for agricultural growth \\n \\n5. Defeat problems and succeed, \\n \\n6. Overcome problems through partnership, \\n \\n7. Courage in combating calamities, \\n \\n8. Connectivity for societal transformation, \\n \\n9. Defending the nation: Our pride and \\n \\n10. Youth movement for Developed India 2020. \\n \\nNow let me share with you each of the messages. \\n \\nAccelerate Development: Aspiration of the youth \\nWhile there were many significant events during my tenure, a que stion from a little girl \\nAnukriti of Sri Sathya Sai Jagriti Vidya Mandir School, of Dar wa village from Haryana, \\nduring children’s visit to Rashtrapati Bhavan on May 22, 2006, rings in my  mind ever \\nafter. \\n \\nAnukriti asked me “why India cannot become a developed nation before the year 2020”. I \\nappreciated the question and said it was indeed a thoughtful question and as sured her that \\nthat her dream would be taken to the highest institution of the nation and we would work for it to achieve before 2020. This question reflects how the desire t o live in developed \\nIndia has entered into the minds of the youth. The same feelings are  echoed by over \\nfifteen lakh youth, whom I have met so far and who represent the drea m of the 540 \\nmillion youth of the nation. The aspirations of the young to live in a prosperous, safe and \\nproud India should be the guiding factor in whatever profession we contribute. \\n \\nEmpower Villages \\nFriends, I recall my visit to Nagaland on 26th October 2002, soon after m y assuming \\noffice as President. It was a unique experience for me at Khuza ma village to meet tribal \\nvillage council members and discuss with them the village progress  and the dream of \\nvillage citizens. I was very happy to see the empowered village  council functioning with \\nfinancial powers and taking decisions. I saw a prosperous village with fruits and \\nvegetables production. However, there is a need for providing physical c onnectivity in \\nNagaland through quality roads for enabling faster movement of produ cts from villages \\nto the market. That meeting gave me a powerful message about the t ransformation which \\ncan take place to the 600,000 villages of India, if all the villages a re empowered to deal \\nwith their development and are well connected among themselves and wit h the urban \\nsocieties. \\n \\nMobilizing rural core competence for competitiveness \\nNow I would like to talk about the initiative of Periyar Maniammai  College of \\nTechnology for Women, Vallam, Tanjore of Providing Urban Amenities in Rural Areas \\n(PURA) complex involving 65 villages with a population of 3 lakhs. This inc ludes \\nprovision of three connectivities - physical, electronic and knowledge  - leading to \\neconomic connectivity. Periyar PURA has health care centers, pr imary to post graduate \\nlevel education and vocational training centers. This has resulted i n large-scale \\nemployment generation and creation of number of entrepreneurs with the  active support \\nof 1000 self-help groups. Two hundred acres of waste land has been develope d into a \\ncultivable land. The villagers are busy in cultivation, planting Jatropha, herbal and \\nmedicinal plants, power generation using bio-mass, food processing and above all \\nrunning marketing centers. It provides a sustainable economic developm ent model for the \\nwhole region. \\n \\nDuring the last eight months, people of Periyar PURA villages technologically supported \\nby Periyar Maniammai College of Engineering for Women have w orked with experts \\nfrom Japan External Trade Organisation (JETRO) on various products, for  which core \\ncompetence and raw material are available in Thanjavur district. They developed \\ninternationally competitive prototypes for 55 life style products wi th support of JETRO \\nspecialists and feedback from exhibitions at Delhi and Tokyo. This co -operative venture \\nhas enhanced the innovative ability of the people of all the 65 villages  enabling them to \\ndevelop and produce internationally acceptable products. I have seen si milar type of \\nPURA being established in many states. The whole country needs 7000 PU RA to \\nbridging the rural – urban divide. \\n \\nSeed to Food: Backbone for agricultural growth Let me now share with you, the enriching experience I had, whil e meeting more than \\n6000 farmers from different States and Union Territories visitin g Rashtrapati Bhavan. \\nThey evinced keen interest in the Mughal Gardens, the Herbal Gardens , the Spiritual \\nGarden, the Musical Garden, the Bio-diesel garden and the Nutrition Garden and interact \\nwith the Horticultural specialists. Recently, during my address to the agricultural \\nscientists while participating in a National Symposium on “Agri culture Cannot Wait”, I \\nsummarized the many practical suggestions given by farmers. W e have to double the \\nagricultural production with reduced land, reduced water resources and re duced \\nmanpower and improve the economic conditions of the nation through the principle  of \\n“Seed to Food” since agriculture is the backbone of the nation. We should em power the \\nfarmers to protect and nurture the fertile land for second green re volution. Meeting the \\nScientists and the Farmers has given me the confidence \\nthat the nation is poised to increase the agricultural GDP growth by atleast 4% per annum \\nthrough the partnership of farmers and agricultural scientists a nd industries particularly \\nfor value addition. \\n \\nDefeat the problems and succeed \\nOn the evening of February 24, 2007, at Coimbatore, I had a very beautif ul experience. \\nAs I got ready for meeting the first person out of twenty appoint ments, a wheel chair was \\nin sight with a smiling person probably in his late fifties; unfortunately he has no hands \\nand legs. His radiant face was revealing his happy state of mi nd. He introduced himself \\nas Vidwan Coimbatore SR Krishna Murthy. I greeted him and asked him  how this had \\nhappened. He smilingly said that it was from by birth. He thanked G od, his parents, \\nteachers and many others for giving him confidence, training and he lp. I asked him, what \\nI could do for him? He said, “I don’t need anything from you. I would like to sing in fr ont \\nof you”. I readily agreed. He sang melodiously the Saint Thyagraj a’s pancha ratna kriti \\nentharo mahanubavulu in Sriragam giving me a glimpse of his talent. I was quite  touched. \\nWhat is the message? Despite being physically challenged, the latent talent of music \\ncould blossom in this \\nperson with his positive attitude and perseverance, encouraged by the pa rents, teachers, \\nacademics and rasikas. Now he wants to give, give and give his art to inspire others. Of \\ncourse, by his merit of music, in July 2007, he performed in the Rashtra pati Bhavan art \\ntheatre. \\n \\nOvercome the impact of disaster through partnership \\nI had the opportunity to experience the Indomitable Spirit of the people  and children of \\nJammu & Kashmir even as they were just recovering from the de vastating earthquake in \\n2005. I visited Urusa village on 26th November 2005 which has been adopted by the  \\nWestern Air Command, Air Force for providing relief and medical aid to the residents of \\nthat area. When I went there, I found that the school building had been severely  damaged. \\nI met all the school children and the village citizen of Urusa. T he villagers apprised me of \\ntheir losses and had all praise for Army and Air Force role in rescue and relief operations \\nalong with state government. I appreciate the courage of the people of Urusa in defeating \\ntheir problems. They have actually become the master of the probl em rather than \\nallowing problems to become their master. Despite the severe l oss due to the earthquake, the children and the members of the village participated in the reli ef operation with the \\nArmed Forces \\nbravely and were smiling when I went to meet them. They interact ed with me and said \\nthat the school was functional in the temporary tents. Here, I also witnessed the \\nparticipation of acting Chief Justice of Jammu & Kashmir along with State Government \\nauthorities in on-the-spot settlement of relief grants to be provide d to the victims whose \\nhouses had been damaged in the earth quake. I have experienced many s uch acts of \\ncourage from our citizens when faced with severe challenges. \\n \\nCourage in combating calamities \\nIn 2005, I met the Tribal Council Leaders, Students, Children of Chuckchucha  village \\nduring my visit to Car Nicobar Islands. While various reconstruction a nd rehabilitation \\nactivities were in progress, during the discussions with the members  of tribal council, I \\nrealized the unique trait among the Car-Nicobar islanders. Even thoug h there were many \\nhuman losses due to the Tsunami of 26 Dec 2004, the tribal islanders had  taken \\npossession of affected victims as their children and there is nothi ng like orphanage in \\nCar-Nicobar Islands. Touched by their courage, I composed few vers es called “Sea \\nWaves” which reads as follows: \\nSea Waves \\n \\nWe are the children of Sea waves, \\nSea waves are my friends. \\nWhen they become angry, \\nSea waves give the challenges. \\nGod has given the courage, \\nTo challenge the sea waves. \\nAnd we will succeed, \\nWe will succeed \\nWith Almighty’s grace. \\nAll the members who were gathered in the village sang the poem  with me and exhibited \\nlots of courage and enthusiasm even though they had gone through severe  suffering \\nduring the Tsunami. \\n \\nConnectivity for societal transformation \\nI addressed the Pan African Parliament on 16 September 2004, at Johanne sburg, South \\nAfrica. This was attended by 53 member countries of the Africa n Union, where I \\nproposed the concept of Pan African e-Network for providing seamless and integrated \\nsatellite, fiber optics and wireless network connecting 53 African countries at an \\nestimated cost of US $ 100 million. \\n \\nAs part of the project 12 universities (7 from India and 5 from Afri ca), 17 Super \\nSpecialty Hospitals (12 from India and 5 from Africa), 53 tele-me dicine centers and 53 \\ntele-education centres in Africa will be connected. The pilot proj ect on tele-education and \\ntele-medicine in Ethiopia has already been commissioned. Indira Gandh i National Open \\nUniversity has taken up the MBA Course for 34 Ethiopian students of Addis  Ababa and \\nHarmaya Universities. As regards, tele-medicine, the special ists from CARE Hospital, Hyderabad are providing one-hour live tele-consultation to doctors in B lack Lion \\nHospital, Addis Ababa in Cardiology and Radiology since November 2006. Using the \\nPan African network the Heads of the State in all the 53 countries  will be connected for \\ninstant communication. I am extremely happy that Indian experience  in bringing the \\nbenefits of technology to the people has enabled us to work with Afric a to bring societal \\ntransformation in the African continent. \\n \\nDefending the nation: Our pride \\nI visited KUMAR in Siachen Glacier located at 17,000 feet altitude  held by the Indian \\nArmy, had a memorable underwater journey in INS Sindhurakshak and flew  in a Sukhoi-\\n30 fighter experiencing 2.5 g. In these three experiences, I personal ly felt proud of our \\never vigilant Soldiers, Sailors and Air Warriors performing their  tasks beyond the call of \\ntheir duty even in the most adverse circumstances natural and man m ade. During the last \\nfive years, I had an opportunity to present colours to many regime nts, participate in \\nnumber of passing out parades, meet the troops who were going to undertake  peace \\nmissions and interact with the family members of our Defence F orces. Our Defence \\nForces are in a beautiful mission. When the nation sleeps during night , Members of our \\nDefence teams are awake to guard us and remain vigilant to counte r any threat. The \\nNation cherishes the valour, commitment and devotion to duty of our Defenc e Forces. \\nSimilarly, I had opportunities to interact \\nwith members of our para-military forces, central and state poli ce personnel including \\ninternal security forces who are making immense contribution in au gmenting the safety \\nand security of our citizens under difficult conditions. \\n \\nYouth movement for Developed India 2020 \\nRecently, in Hyderabad, I met a group of citizens who are putting i nto practice the motto \\nof transforming of our youth into enlightened citizen. The Lead India 2020 Found ation \\ncreated by Dr. N.B. Sudershan at Hyderabad is training thousands of s tudents in many \\ndistricts of Andhra Pradesh in partnership with the District Adm inistration. Particularly, I \\nhappened to know the transformation which has taken place among the students  of \\nMedak district. As per the district authorities the impact of the  training on the students is \\nvisible in terms of self-discipline, love for their parents and tea chers shedding of stage \\nfear and recognition of their duties towards the nation. I talke d to Ms. Padma, a student \\nleader from Andhra Pradesh Tribal Welfare School, Nalgonda who relat ed how she \\nweaned her father away from smoking after imbibing the spirit of  the 10 point oath from \\nthe Lead India Training Camp. This gives me an assurance that the  youth of our country \\nare on the right path \\nthrough this mission oriented programme. With the ignited minds of the  540 million \\nyouth below the age of 25, which I consider is the most powerful resour ce on the earth, \\nunder the earth and above the earth, we have to empower the youth through va lue based \\neducation and leadership. \\n \\nConclusion \\nI was touched by the variety of Indian panorama, emotional content of  the tune, cultural \\ndiversity and unity of minds in the vast land of ours. I have cited thes e examples just to \\ngive a glimpse of the richness of our tradition and effort being take n by different agencies to preserve it. There are also many new adventures by instituti ons and individuals. I have \\nexperienced many of them and learnt a lot about my country and our peopl e. Even while \\npursuing our economic growth, we need to do a lot to preserve the rich and diverse \\ntreasures of our culture and civilization. It is our duty for our fut ure generations. This has \\nto be done in a much larger scale through countrywide participatio n of multiple \\ninstitutions. Our country is blessed with natural resources, has shown c onsiderable \\nprogress in the last sixty years, and above all we have hard wor king people particularly \\nthe power of the 540 million youth of the country. Every sector of our count ry has given \\nme the \\nconfidence that India can become a developed nation well before 2020. Whomsoeve r, I \\nmet they constantly ask what they can give to the nation. We should c onstantly strive to \\nempower such members of the society. With this spirit, I am extr emely happy that we are \\non the right path. Here I am reminded of a famous poem: \\n\"When you wish upon a star, \\nMakes no difference who you are, \\nAnything your heart desires, \\nWill come to you” \\nThis poem is true to all of us, and particularly for our youth and i f they aim great, I am \\nsure they will reach close to the target or the target. \\n \\nMy dear citizens, let us resolve to continue to work for realizing the missions of \\ndeveloped India 2020 with the following distinctive profile. \\n \\n1. A Nation where the rural and urban divide has reduced to a thin line. \\n \\n2. A Nation where there is an equitable distribution and adequate acce ss to energy and \\nquality water. \\n \\n3. A Nation where agriculture, industry and service sector work together in sym phony. \\n \\n4. A Nation where education with value system is not denied to any meritorious \\ncandidates because of societal or economic discrimination. \\n \\n5. A Nation which is the best destination for the most talented s cholars, scientists, and \\ninvestors. \\n \\n6. A Nation where the best of health care is available to all. \\n \\n7. A Nation where the governance is responsive, transparent and corruption free. \\n \\n8. A Nation where poverty has been totally eradicated, illiterac y removed and crimes \\nagainst women and children are absent and none in the society feels alienated. \\n \\n9. A Nation that is prosperous, healthy, secure, peaceful and happy a nd continues with a \\nsustainable growth path. \\n 10. A Nation that is one of the best places to live in and is proud of its leadership. \\n \\nFinally let me thank each one of you for showering your love and aff ection on me \\nthroughout the last five years by your cooperation and support. \\n \\nDear Citizens, I conclude my address by sharing with you my mission in life which is to \\nbring connectivity between billion hearts and minds of the people of Indi a in our \\nmulticultural society and to embed the self confidence that \"we c an do it\". I will be \\nalways with you, dear citizens, in the great mission of making Indi a a developed nation \\nbefore 2020. \\n \\nMay God bless you. \\n \\nJai hind. \\nDr. A. P. J. Abdul Kalam \\nwww.presidentofindia.nic.in ')]"
            ]
          },
          "metadata": {},
          "execution_count": 58
        }
      ],
      "source": [
        "# convert it into documents\n",
        "docs = [Document(page_content=text)]\n",
        "docs"
      ]
    },
    {
      "cell_type": "code",
      "execution_count": 59,
      "metadata": {
        "id": "81je26705I-m"
      },
      "outputs": [],
      "source": [
        "llm = ChatOpenAI(temperature=0, model_name='gpt-4-0125-preview')"
      ]
    },
    {
      "cell_type": "code",
      "execution_count": 60,
      "metadata": {
        "id": "yKWxwGln5I-m"
      },
      "outputs": [],
      "source": [
        "from langchain import PromptTemplate\n",
        "from langchain.chat_models import ChatOpenAI\n",
        "from langchain.chains.summarize import load_summarize_chain\n",
        "from langchain.docstore.document import Document"
      ]
    },
    {
      "cell_type": "code",
      "execution_count": 61,
      "metadata": {
        "id": "Ztpv499W5I-m"
      },
      "outputs": [],
      "source": [
        "template = '''Write a concise and short summary of the following speech.\n",
        "Speech: `{text}`\n",
        "'''\n",
        "prompt = PromptTemplate(\n",
        "    input_variables=['text'],\n",
        "    template=template\n",
        ")"
      ]
    },
    {
      "cell_type": "code",
      "execution_count": 64,
      "metadata": {
        "colab": {
          "base_uri": "https://localhost:8080/"
        },
        "id": "VmBWb_ua5I-n",
        "outputId": "e3af5b56-2381-4c4b-9916-e9caf166dc68"
      },
      "outputs": [
        {
          "output_type": "stream",
          "name": "stdout",
          "text": [
            "\n",
            "\n",
            "\u001b[1m> Entering new StuffDocumentsChain chain...\u001b[0m\n",
            "\n",
            "\n",
            "\u001b[1m> Entering new LLMChain chain...\u001b[0m\n",
            "Prompt after formatting:\n",
            "\u001b[32;1m\u001b[1;3mWrite a concise and short summary of the following speech.\n",
            "Speech: `A P J Abdul Kalam Departing speech \n",
            " \n",
            " \n",
            "Friends, I am delighted to address you all, in the country and those livi ng abroad, after \n",
            "working with you and completing five beautiful and eventful years in Rashtrapati \n",
            "Bhavan. Today, it is indeed a thanks giving occasion. I would like to narr ate, how I \n",
            "enjoyed every minute of my tenure enriched by the wonderful assoc iation from each one \n",
            "of you, hailing from different walks of life, be it politics, sci ence and technology, \n",
            "academics, arts, literature, business, judiciary, administration, local bodies, farming, \n",
            "home makers, special children, media and above all from the youth and st udent \n",
            "community who are the future wealth of our country. During my intera ction at \n",
            "Rashtrapati Bhavan in Delhi and at every state and union territor y as well as through my \n",
            "online interactions, I have many unique experiences to share with you, which signify the \n",
            "following important messages: \n",
            " \n",
            "1. Accelerate development : Aspiration of the youth, \n",
            " \n",
            "2. Empower villages, \n",
            " \n",
            "3. Mobilize rural core competence for competitiveness, \n",
            " \n",
            "4. Seed to Food: Backbone for agricultural growth \n",
            " \n",
            "5. Defeat problems and succeed, \n",
            " \n",
            "6. Overcome problems through partnership, \n",
            " \n",
            "7. Courage in combating calamities, \n",
            " \n",
            "8. Connectivity for societal transformation, \n",
            " \n",
            "9. Defending the nation: Our pride and \n",
            " \n",
            "10. Youth movement for Developed India 2020. \n",
            " \n",
            "Now let me share with you each of the messages. \n",
            " \n",
            "Accelerate Development: Aspiration of the youth \n",
            "While there were many significant events during my tenure, a que stion from a little girl \n",
            "Anukriti of Sri Sathya Sai Jagriti Vidya Mandir School, of Dar wa village from Haryana, \n",
            "during children’s visit to Rashtrapati Bhavan on May 22, 2006, rings in my  mind ever \n",
            "after. \n",
            " \n",
            "Anukriti asked me “why India cannot become a developed nation before the year 2020”. I \n",
            "appreciated the question and said it was indeed a thoughtful question and as sured her that \n",
            "that her dream would be taken to the highest institution of the nation and we would work for it to achieve before 2020. This question reflects how the desire t o live in developed \n",
            "India has entered into the minds of the youth. The same feelings are  echoed by over \n",
            "fifteen lakh youth, whom I have met so far and who represent the drea m of the 540 \n",
            "million youth of the nation. The aspirations of the young to live in a prosperous, safe and \n",
            "proud India should be the guiding factor in whatever profession we contribute. \n",
            " \n",
            "Empower Villages \n",
            "Friends, I recall my visit to Nagaland on 26th October 2002, soon after m y assuming \n",
            "office as President. It was a unique experience for me at Khuza ma village to meet tribal \n",
            "village council members and discuss with them the village progress  and the dream of \n",
            "village citizens. I was very happy to see the empowered village  council functioning with \n",
            "financial powers and taking decisions. I saw a prosperous village with fruits and \n",
            "vegetables production. However, there is a need for providing physical c onnectivity in \n",
            "Nagaland through quality roads for enabling faster movement of produ cts from villages \n",
            "to the market. That meeting gave me a powerful message about the t ransformation which \n",
            "can take place to the 600,000 villages of India, if all the villages a re empowered to deal \n",
            "with their development and are well connected among themselves and wit h the urban \n",
            "societies. \n",
            " \n",
            "Mobilizing rural core competence for competitiveness \n",
            "Now I would like to talk about the initiative of Periyar Maniammai  College of \n",
            "Technology for Women, Vallam, Tanjore of Providing Urban Amenities in Rural Areas \n",
            "(PURA) complex involving 65 villages with a population of 3 lakhs. This inc ludes \n",
            "provision of three connectivities - physical, electronic and knowledge  - leading to \n",
            "economic connectivity. Periyar PURA has health care centers, pr imary to post graduate \n",
            "level education and vocational training centers. This has resulted i n large-scale \n",
            "employment generation and creation of number of entrepreneurs with the  active support \n",
            "of 1000 self-help groups. Two hundred acres of waste land has been develope d into a \n",
            "cultivable land. The villagers are busy in cultivation, planting Jatropha, herbal and \n",
            "medicinal plants, power generation using bio-mass, food processing and above all \n",
            "running marketing centers. It provides a sustainable economic developm ent model for the \n",
            "whole region. \n",
            " \n",
            "During the last eight months, people of Periyar PURA villages technologically supported \n",
            "by Periyar Maniammai College of Engineering for Women have w orked with experts \n",
            "from Japan External Trade Organisation (JETRO) on various products, for  which core \n",
            "competence and raw material are available in Thanjavur district. They developed \n",
            "internationally competitive prototypes for 55 life style products wi th support of JETRO \n",
            "specialists and feedback from exhibitions at Delhi and Tokyo. This co -operative venture \n",
            "has enhanced the innovative ability of the people of all the 65 villages  enabling them to \n",
            "develop and produce internationally acceptable products. I have seen si milar type of \n",
            "PURA being established in many states. The whole country needs 7000 PU RA to \n",
            "bridging the rural – urban divide. \n",
            " \n",
            "Seed to Food: Backbone for agricultural growth Let me now share with you, the enriching experience I had, whil e meeting more than \n",
            "6000 farmers from different States and Union Territories visitin g Rashtrapati Bhavan. \n",
            "They evinced keen interest in the Mughal Gardens, the Herbal Gardens , the Spiritual \n",
            "Garden, the Musical Garden, the Bio-diesel garden and the Nutrition Garden and interact \n",
            "with the Horticultural specialists. Recently, during my address to the agricultural \n",
            "scientists while participating in a National Symposium on “Agri culture Cannot Wait”, I \n",
            "summarized the many practical suggestions given by farmers. W e have to double the \n",
            "agricultural production with reduced land, reduced water resources and re duced \n",
            "manpower and improve the economic conditions of the nation through the principle  of \n",
            "“Seed to Food” since agriculture is the backbone of the nation. We should em power the \n",
            "farmers to protect and nurture the fertile land for second green re volution. Meeting the \n",
            "Scientists and the Farmers has given me the confidence \n",
            "that the nation is poised to increase the agricultural GDP growth by atleast 4% per annum \n",
            "through the partnership of farmers and agricultural scientists a nd industries particularly \n",
            "for value addition. \n",
            " \n",
            "Defeat the problems and succeed \n",
            "On the evening of February 24, 2007, at Coimbatore, I had a very beautif ul experience. \n",
            "As I got ready for meeting the first person out of twenty appoint ments, a wheel chair was \n",
            "in sight with a smiling person probably in his late fifties; unfortunately he has no hands \n",
            "and legs. His radiant face was revealing his happy state of mi nd. He introduced himself \n",
            "as Vidwan Coimbatore SR Krishna Murthy. I greeted him and asked him  how this had \n",
            "happened. He smilingly said that it was from by birth. He thanked G od, his parents, \n",
            "teachers and many others for giving him confidence, training and he lp. I asked him, what \n",
            "I could do for him? He said, “I don’t need anything from you. I would like to sing in fr ont \n",
            "of you”. I readily agreed. He sang melodiously the Saint Thyagraj a’s pancha ratna kriti \n",
            "entharo mahanubavulu in Sriragam giving me a glimpse of his talent. I was quite  touched. \n",
            "What is the message? Despite being physically challenged, the latent talent of music \n",
            "could blossom in this \n",
            "person with his positive attitude and perseverance, encouraged by the pa rents, teachers, \n",
            "academics and rasikas. Now he wants to give, give and give his art to inspire others. Of \n",
            "course, by his merit of music, in July 2007, he performed in the Rashtra pati Bhavan art \n",
            "theatre. \n",
            " \n",
            "Overcome the impact of disaster through partnership \n",
            "I had the opportunity to experience the Indomitable Spirit of the people  and children of \n",
            "Jammu & Kashmir even as they were just recovering from the de vastating earthquake in \n",
            "2005. I visited Urusa village on 26th November 2005 which has been adopted by the  \n",
            "Western Air Command, Air Force for providing relief and medical aid to the residents of \n",
            "that area. When I went there, I found that the school building had been severely  damaged. \n",
            "I met all the school children and the village citizen of Urusa. T he villagers apprised me of \n",
            "their losses and had all praise for Army and Air Force role in rescue and relief operations \n",
            "along with state government. I appreciate the courage of the people of Urusa in defeating \n",
            "their problems. They have actually become the master of the probl em rather than \n",
            "allowing problems to become their master. Despite the severe l oss due to the earthquake, the children and the members of the village participated in the reli ef operation with the \n",
            "Armed Forces \n",
            "bravely and were smiling when I went to meet them. They interact ed with me and said \n",
            "that the school was functional in the temporary tents. Here, I also witnessed the \n",
            "participation of acting Chief Justice of Jammu & Kashmir along with State Government \n",
            "authorities in on-the-spot settlement of relief grants to be provide d to the victims whose \n",
            "houses had been damaged in the earth quake. I have experienced many s uch acts of \n",
            "courage from our citizens when faced with severe challenges. \n",
            " \n",
            "Courage in combating calamities \n",
            "In 2005, I met the Tribal Council Leaders, Students, Children of Chuckchucha  village \n",
            "during my visit to Car Nicobar Islands. While various reconstruction a nd rehabilitation \n",
            "activities were in progress, during the discussions with the members  of tribal council, I \n",
            "realized the unique trait among the Car-Nicobar islanders. Even thoug h there were many \n",
            "human losses due to the Tsunami of 26 Dec 2004, the tribal islanders had  taken \n",
            "possession of affected victims as their children and there is nothi ng like orphanage in \n",
            "Car-Nicobar Islands. Touched by their courage, I composed few vers es called “Sea \n",
            "Waves” which reads as follows: \n",
            "Sea Waves \n",
            " \n",
            "We are the children of Sea waves, \n",
            "Sea waves are my friends. \n",
            "When they become angry, \n",
            "Sea waves give the challenges. \n",
            "God has given the courage, \n",
            "To challenge the sea waves. \n",
            "And we will succeed, \n",
            "We will succeed \n",
            "With Almighty’s grace. \n",
            "All the members who were gathered in the village sang the poem  with me and exhibited \n",
            "lots of courage and enthusiasm even though they had gone through severe  suffering \n",
            "during the Tsunami. \n",
            " \n",
            "Connectivity for societal transformation \n",
            "I addressed the Pan African Parliament on 16 September 2004, at Johanne sburg, South \n",
            "Africa. This was attended by 53 member countries of the Africa n Union, where I \n",
            "proposed the concept of Pan African e-Network for providing seamless and integrated \n",
            "satellite, fiber optics and wireless network connecting 53 African countries at an \n",
            "estimated cost of US $ 100 million. \n",
            " \n",
            "As part of the project 12 universities (7 from India and 5 from Afri ca), 17 Super \n",
            "Specialty Hospitals (12 from India and 5 from Africa), 53 tele-me dicine centers and 53 \n",
            "tele-education centres in Africa will be connected. The pilot proj ect on tele-education and \n",
            "tele-medicine in Ethiopia has already been commissioned. Indira Gandh i National Open \n",
            "University has taken up the MBA Course for 34 Ethiopian students of Addis  Ababa and \n",
            "Harmaya Universities. As regards, tele-medicine, the special ists from CARE Hospital, Hyderabad are providing one-hour live tele-consultation to doctors in B lack Lion \n",
            "Hospital, Addis Ababa in Cardiology and Radiology since November 2006. Using the \n",
            "Pan African network the Heads of the State in all the 53 countries  will be connected for \n",
            "instant communication. I am extremely happy that Indian experience  in bringing the \n",
            "benefits of technology to the people has enabled us to work with Afric a to bring societal \n",
            "transformation in the African continent. \n",
            " \n",
            "Defending the nation: Our pride \n",
            "I visited KUMAR in Siachen Glacier located at 17,000 feet altitude  held by the Indian \n",
            "Army, had a memorable underwater journey in INS Sindhurakshak and flew  in a Sukhoi-\n",
            "30 fighter experiencing 2.5 g. In these three experiences, I personal ly felt proud of our \n",
            "ever vigilant Soldiers, Sailors and Air Warriors performing their  tasks beyond the call of \n",
            "their duty even in the most adverse circumstances natural and man m ade. During the last \n",
            "five years, I had an opportunity to present colours to many regime nts, participate in \n",
            "number of passing out parades, meet the troops who were going to undertake  peace \n",
            "missions and interact with the family members of our Defence F orces. Our Defence \n",
            "Forces are in a beautiful mission. When the nation sleeps during night , Members of our \n",
            "Defence teams are awake to guard us and remain vigilant to counte r any threat. The \n",
            "Nation cherishes the valour, commitment and devotion to duty of our Defenc e Forces. \n",
            "Similarly, I had opportunities to interact \n",
            "with members of our para-military forces, central and state poli ce personnel including \n",
            "internal security forces who are making immense contribution in au gmenting the safety \n",
            "and security of our citizens under difficult conditions. \n",
            " \n",
            "Youth movement for Developed India 2020 \n",
            "Recently, in Hyderabad, I met a group of citizens who are putting i nto practice the motto \n",
            "of transforming of our youth into enlightened citizen. The Lead India 2020 Found ation \n",
            "created by Dr. N.B. Sudershan at Hyderabad is training thousands of s tudents in many \n",
            "districts of Andhra Pradesh in partnership with the District Adm inistration. Particularly, I \n",
            "happened to know the transformation which has taken place among the students  of \n",
            "Medak district. As per the district authorities the impact of the  training on the students is \n",
            "visible in terms of self-discipline, love for their parents and tea chers shedding of stage \n",
            "fear and recognition of their duties towards the nation. I talke d to Ms. Padma, a student \n",
            "leader from Andhra Pradesh Tribal Welfare School, Nalgonda who relat ed how she \n",
            "weaned her father away from smoking after imbibing the spirit of  the 10 point oath from \n",
            "the Lead India Training Camp. This gives me an assurance that the  youth of our country \n",
            "are on the right path \n",
            "through this mission oriented programme. With the ignited minds of the  540 million \n",
            "youth below the age of 25, which I consider is the most powerful resour ce on the earth, \n",
            "under the earth and above the earth, we have to empower the youth through va lue based \n",
            "education and leadership. \n",
            " \n",
            "Conclusion \n",
            "I was touched by the variety of Indian panorama, emotional content of  the tune, cultural \n",
            "diversity and unity of minds in the vast land of ours. I have cited thes e examples just to \n",
            "give a glimpse of the richness of our tradition and effort being take n by different agencies to preserve it. There are also many new adventures by instituti ons and individuals. I have \n",
            "experienced many of them and learnt a lot about my country and our peopl e. Even while \n",
            "pursuing our economic growth, we need to do a lot to preserve the rich and diverse \n",
            "treasures of our culture and civilization. It is our duty for our fut ure generations. This has \n",
            "to be done in a much larger scale through countrywide participatio n of multiple \n",
            "institutions. Our country is blessed with natural resources, has shown c onsiderable \n",
            "progress in the last sixty years, and above all we have hard wor king people particularly \n",
            "the power of the 540 million youth of the country. Every sector of our count ry has given \n",
            "me the \n",
            "confidence that India can become a developed nation well before 2020. Whomsoeve r, I \n",
            "met they constantly ask what they can give to the nation. We should c onstantly strive to \n",
            "empower such members of the society. With this spirit, I am extr emely happy that we are \n",
            "on the right path. Here I am reminded of a famous poem: \n",
            "\"When you wish upon a star, \n",
            "Makes no difference who you are, \n",
            "Anything your heart desires, \n",
            "Will come to you” \n",
            "This poem is true to all of us, and particularly for our youth and i f they aim great, I am \n",
            "sure they will reach close to the target or the target. \n",
            " \n",
            "My dear citizens, let us resolve to continue to work for realizing the missions of \n",
            "developed India 2020 with the following distinctive profile. \n",
            " \n",
            "1. A Nation where the rural and urban divide has reduced to a thin line. \n",
            " \n",
            "2. A Nation where there is an equitable distribution and adequate acce ss to energy and \n",
            "quality water. \n",
            " \n",
            "3. A Nation where agriculture, industry and service sector work together in sym phony. \n",
            " \n",
            "4. A Nation where education with value system is not denied to any meritorious \n",
            "candidates because of societal or economic discrimination. \n",
            " \n",
            "5. A Nation which is the best destination for the most talented s cholars, scientists, and \n",
            "investors. \n",
            " \n",
            "6. A Nation where the best of health care is available to all. \n",
            " \n",
            "7. A Nation where the governance is responsive, transparent and corruption free. \n",
            " \n",
            "8. A Nation where poverty has been totally eradicated, illiterac y removed and crimes \n",
            "against women and children are absent and none in the society feels alienated. \n",
            " \n",
            "9. A Nation that is prosperous, healthy, secure, peaceful and happy a nd continues with a \n",
            "sustainable growth path. \n",
            " 10. A Nation that is one of the best places to live in and is proud of its leadership. \n",
            " \n",
            "Finally let me thank each one of you for showering your love and aff ection on me \n",
            "throughout the last five years by your cooperation and support. \n",
            " \n",
            "Dear Citizens, I conclude my address by sharing with you my mission in life which is to \n",
            "bring connectivity between billion hearts and minds of the people of Indi a in our \n",
            "multicultural society and to embed the self confidence that \"we c an do it\". I will be \n",
            "always with you, dear citizens, in the great mission of making Indi a a developed nation \n",
            "before 2020. \n",
            " \n",
            "May God bless you. \n",
            " \n",
            "Jai hind. \n",
            "Dr. A. P. J. Abdul Kalam \n",
            "www.presidentofindia.nic.in `\n",
            "\u001b[0m\n",
            "\n",
            "\u001b[1m> Finished chain.\u001b[0m\n",
            "\n",
            "\u001b[1m> Finished chain.\u001b[0m\n"
          ]
        }
      ],
      "source": [
        "chain = load_summarize_chain(\n",
        "    llm,\n",
        "    chain_type='stuff',\n",
        "    prompt=prompt,\n",
        "    verbose=True\n",
        ")\n",
        "output_summary = chain.run(docs)"
      ]
    },
    {
      "cell_type": "code",
      "execution_count": 65,
      "metadata": {
        "colab": {
          "base_uri": "https://localhost:8080/"
        },
        "id": "sI-ZK3r35I-n",
        "outputId": "b030d649-4e82-4b4f-ccb5-426199ef4cfc"
      },
      "outputs": [
        {
          "output_type": "execute_result",
          "data": {
            "text/plain": [
              "'In his departing speech, Dr. A.P.J. Abdul Kalam reflects on his eventful five-year tenure as the President of India, expressing gratitude and sharing his experiences and interactions across various sectors of society. He emphasizes the importance of accelerating development, empowering villages, mobilizing rural competencies, and focusing on agricultural growth. Kalam highlights the need to overcome challenges through partnership and courage, especially in times of calamities. He discusses the significance of connectivity for societal transformation and the pride in defending the nation. Kalam stresses the role of the youth in achieving a developed India by 2020 and outlines a vision for a nation that is equitable, prosperous, and where governance is responsive and transparent. He concludes by thanking citizens for their support and reiterates his mission to foster connectivity and confidence among the people of India towards making the nation developed before 2020.'"
            ]
          },
          "metadata": {},
          "execution_count": 65
        }
      ],
      "source": [
        "output_summary"
      ]
    },
    {
      "cell_type": "markdown",
      "metadata": {
        "id": "YY2RWPvP5I-n"
      },
      "source": [
        "## Summarizing Large Documents Using Map Reduce"
      ]
    },
    {
      "cell_type": "code",
      "execution_count": 68,
      "metadata": {
        "id": "cYLGGLwO5I-n"
      },
      "outputs": [],
      "source": [
        "from langchain import PromptTemplate\n",
        "from langchain.chat_models import ChatOpenAI\n",
        "from langchain.chains.summarize import load_summarize_chain\n",
        "from langchain.text_splitter import RecursiveCharacterTextSplitter # divide the documents into chunks"
      ]
    },
    {
      "cell_type": "code",
      "execution_count": 69,
      "metadata": {
        "id": "u1EsPOJ85I-n"
      },
      "outputs": [],
      "source": [
        "# provide the path of  pdf file/files.\n",
        "pdfreader = PdfReader('apjspeech.pdf')\n",
        "from typing_extensions import Concatenate\n",
        "# read text from pdf\n",
        "text = ''\n",
        "for i, page in enumerate(pdfreader.pages):\n",
        "    content = page.extract_text()\n",
        "    if content:\n",
        "        text += content"
      ]
    },
    {
      "cell_type": "code",
      "execution_count": 70,
      "metadata": {
        "id": "4aRng20H5I-o"
      },
      "outputs": [],
      "source": [
        "llm = ChatOpenAI(temperature=0, model_name='gpt-4-0125-preview')"
      ]
    },
    {
      "cell_type": "code",
      "execution_count": 71,
      "metadata": {
        "colab": {
          "base_uri": "https://localhost:8080/"
        },
        "id": "xkRS2ybY5I-o",
        "outputId": "e061aefa-1187-4b6b-94a7-bc758f604f30"
      },
      "outputs": [
        {
          "output_type": "execute_result",
          "data": {
            "text/plain": [
              "4001"
            ]
          },
          "metadata": {},
          "execution_count": 71
        }
      ],
      "source": [
        "llm.get_num_tokens(text)"
      ]
    },
    {
      "cell_type": "code",
      "execution_count": 74,
      "metadata": {
        "id": "MWwAniqY5I-o"
      },
      "outputs": [],
      "source": [
        "## Splittting the text into chunks\n",
        "text_splitter = RecursiveCharacterTextSplitter(chunk_size=10000, chunk_overlap=20)\n",
        "chunks = text_splitter.create_documents([text])"
      ]
    },
    {
      "cell_type": "code",
      "execution_count": 75,
      "metadata": {
        "colab": {
          "base_uri": "https://localhost:8080/"
        },
        "id": "QtwYuxxd5I-o",
        "outputId": "251af321-4440-4372-e250-58999af58e6d"
      },
      "outputs": [
        {
          "output_type": "execute_result",
          "data": {
            "text/plain": [
              "2"
            ]
          },
          "metadata": {},
          "execution_count": 75
        }
      ],
      "source": [
        "len(chunks)"
      ]
    },
    {
      "cell_type": "code",
      "execution_count": 76,
      "metadata": {
        "id": "vfn4pnTQ5I-o"
      },
      "outputs": [],
      "source": [
        "chain = load_summarize_chain(\n",
        "    llm,\n",
        "    chain_type='map_reduce',\n",
        "    verbose=False\n",
        ")\n",
        "summary = chain.run(chunks)"
      ]
    },
    {
      "cell_type": "code",
      "execution_count": 77,
      "metadata": {
        "colab": {
          "base_uri": "https://localhost:8080/"
        },
        "id": "2sP6xpuf5I-p",
        "outputId": "51aa480f-b4d0-4006-9b45-c984b850e936"
      },
      "outputs": [
        {
          "output_type": "execute_result",
          "data": {
            "text/plain": [
              "\"In his farewell speech, former President of India, A.P.J. Abdul Kalam, reflected on his five-year term, sharing insights and experiences from his interactions across India and abroad. He emphasized the need for accelerated development, empowerment of villages, a second green revolution, and the importance of connectivity for societal transformation. Kalam highlighted inspiring stories of resilience and the significance of national defense, advocating for a youth-led movement towards making India a developed nation by 2020. He outlined ten goals for achieving this vision, including bridging the rural-urban divide and ensuring equitable resource distribution. Kalam's speech was a call to action for collective effort and optimism towards India's progress and development.\""
            ]
          },
          "metadata": {},
          "execution_count": 77
        }
      ],
      "source": [
        "summary"
      ]
    },
    {
      "cell_type": "markdown",
      "metadata": {
        "id": "XmzkgcG35I-p"
      },
      "source": [
        "## Map Reduce With Custom Prompts"
      ]
    },
    {
      "cell_type": "code",
      "execution_count": 78,
      "metadata": {
        "id": "VWX3gpM65I-0"
      },
      "outputs": [],
      "source": [
        "chunks_prompt=\"\"\"\n",
        "Please summarize the below speech:\n",
        "Speech:`{text}'\n",
        "Summary:\n",
        "\"\"\"\n",
        "map_prompt_template=PromptTemplate(input_variables=['text'],\n",
        "                                    template=chunks_prompt)"
      ]
    },
    {
      "cell_type": "code",
      "execution_count": 79,
      "metadata": {
        "id": "h92udD265I-1"
      },
      "outputs": [],
      "source": [
        "final_combine_prompt='''\n",
        "Provide a final summary of the entire speech with these important points.\n",
        "Add a Generic Motivational Title,\n",
        "Start the precise summary with an introduction and provide the\n",
        "summary in number points for the speech.\n",
        "Speech: `{text}`\n",
        "'''\n",
        "final_combine_prompt_template=PromptTemplate(input_variables=['text'],\n",
        "                                             template=final_combine_prompt)"
      ]
    },
    {
      "cell_type": "code",
      "execution_count": 80,
      "metadata": {
        "id": "aQscc67G5I-1"
      },
      "outputs": [],
      "source": [
        "summary_chain = load_summarize_chain(\n",
        "    llm=llm,\n",
        "    chain_type='map_reduce',\n",
        "    map_prompt=map_prompt_template,\n",
        "    combine_prompt=final_combine_prompt_template,\n",
        "    verbose=False\n",
        ")\n",
        "output = summary_chain.run(chunks)"
      ]
    },
    {
      "cell_type": "code",
      "execution_count": 81,
      "metadata": {
        "colab": {
          "base_uri": "https://localhost:8080/"
        },
        "id": "d2ebwgH_5I-1",
        "outputId": "35a539d1-2bca-4dec-9960-533d75e29e6f"
      },
      "outputs": [
        {
          "output_type": "execute_result",
          "data": {
            "text/plain": [
              "'### Title: \"Igniting Minds, Shaping Futures: The Visionary Path Forward\"\\n\\n### Introduction:\\nIn his heartfelt departing speech, Dr. A.P.J. Abdul Kalam, the 11th President of India, encapsulates the essence of his five-year tenure with a reflective and forward-looking perspective. His speech is not just a recount of his presidency but a clarion call for collective action towards realizing a developed India by 2020. Dr. Kalam\\'s narrative weaves through his myriad interactions across the spectrum of Indian society, his observations, experiences, and the lessons learned, all converging towards a singular vision of progress and empowerment.\\n\\n### Summary of Key Points:\\n\\n1. **Gratitude for Diverse Interactions**: Dr. Kalam expresses deep appreciation for the rich tapestry of interactions he had with people from all walks of life, including politics, science, academia, and more, which enriched his presidency and informed his vision for India.\\n\\n2. **Youth and Development**: A significant emphasis is placed on the aspirations of the youth, with Dr. Kalam advocating for accelerated development initiatives to meet these aspirations, thereby empowering the future leaders of India.\\n\\n3. **Empowering Villages and Agriculture**: Highlighting the importance of rural empowerment, Dr. Kalam stresses on mobilizing rural core competencies and focusing on agricultural growth from \"Seed to Food\" to ensure food security and rural prosperity.\\n\\n4. **Overcoming Challenges through Partnership**: The speech underscores the importance of facing challenges, including natural calamities, with courage and partnership, showcasing the resilience and indomitable spirit of the Indian people.\\n\\n5. **Connectivity for Transformation**: Dr. Kalam points out the critical role of connectivity, not just technological but also societal, in transforming India, defending the nation, and mobilizing the youth towards a developed India by 2020.\\n\\n6. **Inspirational Stories of Resilience and Innovation**: Through recounting inspiring stories of individuals and communities, Dr. Kalam illustrates the capacity of the Indian people for innovation, resilience, and compassion in the face of adversity.\\n\\n7. **Vision for a Developed India**: The speech culminates in a powerful vision for India by 2020 - a nation with a reduced rural-urban divide, equitable resource distribution, quality education and healthcare for all, transparent governance, and a sustainable growth path.\\n\\n8. **Call to Action**: Dr. Kalam concludes with a call to action for collective effort towards achieving the envisioned developed India, expressing his commitment to continue contributing towards this goal beyond his presidency.\\n\\n### Conclusion:\\nDr. A.P.J. Abdul Kalam\\'s departing speech is a testament to his unwavering belief in the potential of India and its people. It serves as a motivational blueprint for action, emphasizing the need for resilience, innovation, and collective effort in overcoming challenges and realizing the dream of a developed India by 2020. His words continue to inspire and ignite the minds of millions, shaping the futures of generations to come.'"
            ]
          },
          "metadata": {},
          "execution_count": 81
        }
      ],
      "source": [
        "output"
      ]
    },
    {
      "cell_type": "markdown",
      "metadata": {
        "id": "DauOP69_5I-1"
      },
      "source": [
        "## RefineChain For Summarization"
      ]
    },
    {
      "cell_type": "code",
      "execution_count": 82,
      "metadata": {
        "colab": {
          "base_uri": "https://localhost:8080/"
        },
        "id": "XRcVg4t65I-1",
        "outputId": "ab4a4cf9-1444-4c47-cf84-ef5bfec2485c"
      },
      "outputs": [
        {
          "output_type": "stream",
          "name": "stdout",
          "text": [
            "\n",
            "\n",
            "\u001b[1m> Entering new RefineDocumentsChain chain...\u001b[0m\n",
            "\n",
            "\n",
            "\u001b[1m> Entering new LLMChain chain...\u001b[0m\n",
            "Prompt after formatting:\n",
            "\u001b[32;1m\u001b[1;3mWrite a concise summary of the following:\n",
            "\n",
            "\n",
            "\"A P J Abdul Kalam Departing speech \n",
            " \n",
            " \n",
            "Friends, I am delighted to address you all, in the country and those livi ng abroad, after \n",
            "working with you and completing five beautiful and eventful years in Rashtrapati \n",
            "Bhavan. Today, it is indeed a thanks giving occasion. I would like to narr ate, how I \n",
            "enjoyed every minute of my tenure enriched by the wonderful assoc iation from each one \n",
            "of you, hailing from different walks of life, be it politics, sci ence and technology, \n",
            "academics, arts, literature, business, judiciary, administration, local bodies, farming, \n",
            "home makers, special children, media and above all from the youth and st udent \n",
            "community who are the future wealth of our country. During my intera ction at \n",
            "Rashtrapati Bhavan in Delhi and at every state and union territor y as well as through my \n",
            "online interactions, I have many unique experiences to share with you, which signify the \n",
            "following important messages: \n",
            " \n",
            "1. Accelerate development : Aspiration of the youth, \n",
            " \n",
            "2. Empower villages, \n",
            " \n",
            "3. Mobilize rural core competence for competitiveness, \n",
            " \n",
            "4. Seed to Food: Backbone for agricultural growth \n",
            " \n",
            "5. Defeat problems and succeed, \n",
            " \n",
            "6. Overcome problems through partnership, \n",
            " \n",
            "7. Courage in combating calamities, \n",
            " \n",
            "8. Connectivity for societal transformation, \n",
            " \n",
            "9. Defending the nation: Our pride and \n",
            " \n",
            "10. Youth movement for Developed India 2020. \n",
            " \n",
            "Now let me share with you each of the messages. \n",
            " \n",
            "Accelerate Development: Aspiration of the youth \n",
            "While there were many significant events during my tenure, a que stion from a little girl \n",
            "Anukriti of Sri Sathya Sai Jagriti Vidya Mandir School, of Dar wa village from Haryana, \n",
            "during children’s visit to Rashtrapati Bhavan on May 22, 2006, rings in my  mind ever \n",
            "after. \n",
            " \n",
            "Anukriti asked me “why India cannot become a developed nation before the year 2020”. I \n",
            "appreciated the question and said it was indeed a thoughtful question and as sured her that \n",
            "that her dream would be taken to the highest institution of the nation and we would work for it to achieve before 2020. This question reflects how the desire t o live in developed \n",
            "India has entered into the minds of the youth. The same feelings are  echoed by over \n",
            "fifteen lakh youth, whom I have met so far and who represent the drea m of the 540 \n",
            "million youth of the nation. The aspirations of the young to live in a prosperous, safe and \n",
            "proud India should be the guiding factor in whatever profession we contribute. \n",
            " \n",
            "Empower Villages \n",
            "Friends, I recall my visit to Nagaland on 26th October 2002, soon after m y assuming \n",
            "office as President. It was a unique experience for me at Khuza ma village to meet tribal \n",
            "village council members and discuss with them the village progress  and the dream of \n",
            "village citizens. I was very happy to see the empowered village  council functioning with \n",
            "financial powers and taking decisions. I saw a prosperous village with fruits and \n",
            "vegetables production. However, there is a need for providing physical c onnectivity in \n",
            "Nagaland through quality roads for enabling faster movement of produ cts from villages \n",
            "to the market. That meeting gave me a powerful message about the t ransformation which \n",
            "can take place to the 600,000 villages of India, if all the villages a re empowered to deal \n",
            "with their development and are well connected among themselves and wit h the urban \n",
            "societies. \n",
            " \n",
            "Mobilizing rural core competence for competitiveness \n",
            "Now I would like to talk about the initiative of Periyar Maniammai  College of \n",
            "Technology for Women, Vallam, Tanjore of Providing Urban Amenities in Rural Areas \n",
            "(PURA) complex involving 65 villages with a population of 3 lakhs. This inc ludes \n",
            "provision of three connectivities - physical, electronic and knowledge  - leading to \n",
            "economic connectivity. Periyar PURA has health care centers, pr imary to post graduate \n",
            "level education and vocational training centers. This has resulted i n large-scale \n",
            "employment generation and creation of number of entrepreneurs with the  active support \n",
            "of 1000 self-help groups. Two hundred acres of waste land has been develope d into a \n",
            "cultivable land. The villagers are busy in cultivation, planting Jatropha, herbal and \n",
            "medicinal plants, power generation using bio-mass, food processing and above all \n",
            "running marketing centers. It provides a sustainable economic developm ent model for the \n",
            "whole region. \n",
            " \n",
            "During the last eight months, people of Periyar PURA villages technologically supported \n",
            "by Periyar Maniammai College of Engineering for Women have w orked with experts \n",
            "from Japan External Trade Organisation (JETRO) on various products, for  which core \n",
            "competence and raw material are available in Thanjavur district. They developed \n",
            "internationally competitive prototypes for 55 life style products wi th support of JETRO \n",
            "specialists and feedback from exhibitions at Delhi and Tokyo. This co -operative venture \n",
            "has enhanced the innovative ability of the people of all the 65 villages  enabling them to \n",
            "develop and produce internationally acceptable products. I have seen si milar type of \n",
            "PURA being established in many states. The whole country needs 7000 PU RA to \n",
            "bridging the rural – urban divide. \n",
            " \n",
            "Seed to Food: Backbone for agricultural growth Let me now share with you, the enriching experience I had, whil e meeting more than \n",
            "6000 farmers from different States and Union Territories visitin g Rashtrapati Bhavan. \n",
            "They evinced keen interest in the Mughal Gardens, the Herbal Gardens , the Spiritual \n",
            "Garden, the Musical Garden, the Bio-diesel garden and the Nutrition Garden and interact \n",
            "with the Horticultural specialists. Recently, during my address to the agricultural \n",
            "scientists while participating in a National Symposium on “Agri culture Cannot Wait”, I \n",
            "summarized the many practical suggestions given by farmers. W e have to double the \n",
            "agricultural production with reduced land, reduced water resources and re duced \n",
            "manpower and improve the economic conditions of the nation through the principle  of \n",
            "“Seed to Food” since agriculture is the backbone of the nation. We should em power the \n",
            "farmers to protect and nurture the fertile land for second green re volution. Meeting the \n",
            "Scientists and the Farmers has given me the confidence \n",
            "that the nation is poised to increase the agricultural GDP growth by atleast 4% per annum \n",
            "through the partnership of farmers and agricultural scientists a nd industries particularly \n",
            "for value addition. \n",
            " \n",
            "Defeat the problems and succeed \n",
            "On the evening of February 24, 2007, at Coimbatore, I had a very beautif ul experience. \n",
            "As I got ready for meeting the first person out of twenty appoint ments, a wheel chair was \n",
            "in sight with a smiling person probably in his late fifties; unfortunately he has no hands \n",
            "and legs. His radiant face was revealing his happy state of mi nd. He introduced himself \n",
            "as Vidwan Coimbatore SR Krishna Murthy. I greeted him and asked him  how this had \n",
            "happened. He smilingly said that it was from by birth. He thanked G od, his parents, \n",
            "teachers and many others for giving him confidence, training and he lp. I asked him, what \n",
            "I could do for him? He said, “I don’t need anything from you. I would like to sing in fr ont \n",
            "of you”. I readily agreed. He sang melodiously the Saint Thyagraj a’s pancha ratna kriti \n",
            "entharo mahanubavulu in Sriragam giving me a glimpse of his talent. I was quite  touched. \n",
            "What is the message? Despite being physically challenged, the latent talent of music \n",
            "could blossom in this \n",
            "person with his positive attitude and perseverance, encouraged by the pa rents, teachers, \n",
            "academics and rasikas. Now he wants to give, give and give his art to inspire others. Of \n",
            "course, by his merit of music, in July 2007, he performed in the Rashtra pati Bhavan art \n",
            "theatre. \n",
            " \n",
            "Overcome the impact of disaster through partnership \n",
            "I had the opportunity to experience the Indomitable Spirit of the people  and children of \n",
            "Jammu & Kashmir even as they were just recovering from the de vastating earthquake in \n",
            "2005. I visited Urusa village on 26th November 2005 which has been adopted by the  \n",
            "Western Air Command, Air Force for providing relief and medical aid to the residents of \n",
            "that area. When I went there, I found that the school building had been severely  damaged. \n",
            "I met all the school children and the village citizen of Urusa. T he villagers apprised me of \n",
            "their losses and had all praise for Army and Air Force role in rescue and relief operations \n",
            "along with state government. I appreciate the courage of the people of Urusa in defeating \n",
            "their problems. They have actually become the master of the probl em rather than \n",
            "allowing problems to become their master. Despite the severe l oss due to the earthquake, the children and the members of the village participated in the reli ef operation with the \n",
            "Armed Forces \n",
            "bravely and were smiling when I went to meet them. They interact ed with me and said \n",
            "that the school was functional in the temporary tents. Here, I also witnessed the \n",
            "participation of acting Chief Justice of Jammu & Kashmir along with State Government \n",
            "authorities in on-the-spot settlement of relief grants to be provide d to the victims whose \n",
            "houses had been damaged in the earth quake. I have experienced many s uch acts of \n",
            "courage from our citizens when faced with severe challenges. \n",
            " \n",
            "Courage in combating calamities \n",
            "In 2005, I met the Tribal Council Leaders, Students, Children of Chuckchucha  village \n",
            "during my visit to Car Nicobar Islands. While various reconstruction a nd rehabilitation \n",
            "activities were in progress, during the discussions with the members  of tribal council, I \n",
            "realized the unique trait among the Car-Nicobar islanders. Even thoug h there were many \n",
            "human losses due to the Tsunami of 26 Dec 2004, the tribal islanders had  taken \n",
            "possession of affected victims as their children and there is nothi ng like orphanage in \n",
            "Car-Nicobar Islands. Touched by their courage, I composed few vers es called “Sea\"\n",
            "\n",
            "\n",
            "CONCISE SUMMARY:\u001b[0m\n",
            "\n",
            "\u001b[1m> Finished chain.\u001b[0m\n",
            "\n",
            "\n",
            "\u001b[1m> Entering new LLMChain chain...\u001b[0m\n",
            "Prompt after formatting:\n",
            "\u001b[32;1m\u001b[1;3mYour job is to produce a final summary.\n",
            "We have provided an existing summary up to a certain point: In his departing speech, A P J Abdul Kalam reflects on his enriching five-year tenure as the President of India, highlighting his interactions and experiences with people from various sectors across the nation and abroad. He shares ten key messages that emerged from these interactions, emphasizing the importance of accelerating development, empowering villages, mobilizing rural core competence, and focusing on agricultural growth. Kalam recounts inspiring encounters, such as a question from a young girl that sparked a national aspiration for development, initiatives that transformed villages into self-sufficient units, and stories of individuals overcoming adversity with courage and partnership. He stresses the role of youth in achieving a developed India by 2020 and the need for societal transformation through connectivity and overcoming challenges together. Kalam's speech is a call to action for collective effort towards national progress, rural empowerment, and harnessing the potential of the youth for a brighter future.\n",
            "We have the opportunity to refine the existing summary (only if needed) with some more context below.\n",
            "------------\n",
            "Waves” which reads as follows: \n",
            "Sea Waves \n",
            " \n",
            "We are the children of Sea waves, \n",
            "Sea waves are my friends. \n",
            "When they become angry, \n",
            "Sea waves give the challenges. \n",
            "God has given the courage, \n",
            "To challenge the sea waves. \n",
            "And we will succeed, \n",
            "We will succeed \n",
            "With Almighty’s grace. \n",
            "All the members who were gathered in the village sang the poem  with me and exhibited \n",
            "lots of courage and enthusiasm even though they had gone through severe  suffering \n",
            "during the Tsunami. \n",
            " \n",
            "Connectivity for societal transformation \n",
            "I addressed the Pan African Parliament on 16 September 2004, at Johanne sburg, South \n",
            "Africa. This was attended by 53 member countries of the Africa n Union, where I \n",
            "proposed the concept of Pan African e-Network for providing seamless and integrated \n",
            "satellite, fiber optics and wireless network connecting 53 African countries at an \n",
            "estimated cost of US $ 100 million. \n",
            " \n",
            "As part of the project 12 universities (7 from India and 5 from Afri ca), 17 Super \n",
            "Specialty Hospitals (12 from India and 5 from Africa), 53 tele-me dicine centers and 53 \n",
            "tele-education centres in Africa will be connected. The pilot proj ect on tele-education and \n",
            "tele-medicine in Ethiopia has already been commissioned. Indira Gandh i National Open \n",
            "University has taken up the MBA Course for 34 Ethiopian students of Addis  Ababa and \n",
            "Harmaya Universities. As regards, tele-medicine, the special ists from CARE Hospital, Hyderabad are providing one-hour live tele-consultation to doctors in B lack Lion \n",
            "Hospital, Addis Ababa in Cardiology and Radiology since November 2006. Using the \n",
            "Pan African network the Heads of the State in all the 53 countries  will be connected for \n",
            "instant communication. I am extremely happy that Indian experience  in bringing the \n",
            "benefits of technology to the people has enabled us to work with Afric a to bring societal \n",
            "transformation in the African continent. \n",
            " \n",
            "Defending the nation: Our pride \n",
            "I visited KUMAR in Siachen Glacier located at 17,000 feet altitude  held by the Indian \n",
            "Army, had a memorable underwater journey in INS Sindhurakshak and flew  in a Sukhoi-\n",
            "30 fighter experiencing 2.5 g. In these three experiences, I personal ly felt proud of our \n",
            "ever vigilant Soldiers, Sailors and Air Warriors performing their  tasks beyond the call of \n",
            "their duty even in the most adverse circumstances natural and man m ade. During the last \n",
            "five years, I had an opportunity to present colours to many regime nts, participate in \n",
            "number of passing out parades, meet the troops who were going to undertake  peace \n",
            "missions and interact with the family members of our Defence F orces. Our Defence \n",
            "Forces are in a beautiful mission. When the nation sleeps during night , Members of our \n",
            "Defence teams are awake to guard us and remain vigilant to counte r any threat. The \n",
            "Nation cherishes the valour, commitment and devotion to duty of our Defenc e Forces. \n",
            "Similarly, I had opportunities to interact \n",
            "with members of our para-military forces, central and state poli ce personnel including \n",
            "internal security forces who are making immense contribution in au gmenting the safety \n",
            "and security of our citizens under difficult conditions. \n",
            " \n",
            "Youth movement for Developed India 2020 \n",
            "Recently, in Hyderabad, I met a group of citizens who are putting i nto practice the motto \n",
            "of transforming of our youth into enlightened citizen. The Lead India 2020 Found ation \n",
            "created by Dr. N.B. Sudershan at Hyderabad is training thousands of s tudents in many \n",
            "districts of Andhra Pradesh in partnership with the District Adm inistration. Particularly, I \n",
            "happened to know the transformation which has taken place among the students  of \n",
            "Medak district. As per the district authorities the impact of the  training on the students is \n",
            "visible in terms of self-discipline, love for their parents and tea chers shedding of stage \n",
            "fear and recognition of their duties towards the nation. I talke d to Ms. Padma, a student \n",
            "leader from Andhra Pradesh Tribal Welfare School, Nalgonda who relat ed how she \n",
            "weaned her father away from smoking after imbibing the spirit of  the 10 point oath from \n",
            "the Lead India Training Camp. This gives me an assurance that the  youth of our country \n",
            "are on the right path \n",
            "through this mission oriented programme. With the ignited minds of the  540 million \n",
            "youth below the age of 25, which I consider is the most powerful resour ce on the earth, \n",
            "under the earth and above the earth, we have to empower the youth through va lue based \n",
            "education and leadership. \n",
            " \n",
            "Conclusion \n",
            "I was touched by the variety of Indian panorama, emotional content of  the tune, cultural \n",
            "diversity and unity of minds in the vast land of ours. I have cited thes e examples just to \n",
            "give a glimpse of the richness of our tradition and effort being take n by different agencies to preserve it. There are also many new adventures by instituti ons and individuals. I have \n",
            "experienced many of them and learnt a lot about my country and our peopl e. Even while \n",
            "pursuing our economic growth, we need to do a lot to preserve the rich and diverse \n",
            "treasures of our culture and civilization. It is our duty for our fut ure generations. This has \n",
            "to be done in a much larger scale through countrywide participatio n of multiple \n",
            "institutions. Our country is blessed with natural resources, has shown c onsiderable \n",
            "progress in the last sixty years, and above all we have hard wor king people particularly \n",
            "the power of the 540 million youth of the country. Every sector of our count ry has given \n",
            "me the \n",
            "confidence that India can become a developed nation well before 2020. Whomsoeve r, I \n",
            "met they constantly ask what they can give to the nation. We should c onstantly strive to \n",
            "empower such members of the society. With this spirit, I am extr emely happy that we are \n",
            "on the right path. Here I am reminded of a famous poem: \n",
            "\"When you wish upon a star, \n",
            "Makes no difference who you are, \n",
            "Anything your heart desires, \n",
            "Will come to you” \n",
            "This poem is true to all of us, and particularly for our youth and i f they aim great, I am \n",
            "sure they will reach close to the target or the target. \n",
            " \n",
            "My dear citizens, let us resolve to continue to work for realizing the missions of \n",
            "developed India 2020 with the following distinctive profile. \n",
            " \n",
            "1. A Nation where the rural and urban divide has reduced to a thin line. \n",
            " \n",
            "2. A Nation where there is an equitable distribution and adequate acce ss to energy and \n",
            "quality water. \n",
            " \n",
            "3. A Nation where agriculture, industry and service sector work together in sym phony. \n",
            " \n",
            "4. A Nation where education with value system is not denied to any meritorious \n",
            "candidates because of societal or economic discrimination. \n",
            " \n",
            "5. A Nation which is the best destination for the most talented s cholars, scientists, and \n",
            "investors. \n",
            " \n",
            "6. A Nation where the best of health care is available to all. \n",
            " \n",
            "7. A Nation where the governance is responsive, transparent and corruption free. \n",
            " \n",
            "8. A Nation where poverty has been totally eradicated, illiterac y removed and crimes \n",
            "against women and children are absent and none in the society feels alienated. \n",
            " \n",
            "9. A Nation that is prosperous, healthy, secure, peaceful and happy a nd continues with a \n",
            "sustainable growth path. \n",
            " 10. A Nation that is one of the best places to live in and is proud of its leadership. \n",
            " \n",
            "Finally let me thank each one of you for showering your love and aff ection on me \n",
            "throughout the last five years by your cooperation and support. \n",
            " \n",
            "Dear Citizens, I conclude my address by sharing with you my mission in life which is to \n",
            "bring connectivity between billion hearts and minds of the people of Indi a in our \n",
            "multicultural society and to embed the self confidence that \"we c an do it\". I will be \n",
            "always with you, dear citizens, in the great mission of making Indi a a developed nation \n",
            "before 2020. \n",
            " \n",
            "May God bless you. \n",
            " \n",
            "Jai hind. \n",
            "Dr. A. P. J. Abdul Kalam \n",
            "www.presidentofindia.nic.in\n",
            "------------\n",
            "Given the new context, refine the original summary.\n",
            "If the context isn't useful, return the original summary.\u001b[0m\n",
            "\n",
            "\u001b[1m> Finished chain.\u001b[0m\n",
            "\n",
            "\u001b[1m> Finished chain.\u001b[0m\n"
          ]
        }
      ],
      "source": [
        "chain = load_summarize_chain(\n",
        "    llm=llm,\n",
        "    chain_type='refine',\n",
        "    verbose=True\n",
        ")\n",
        "output_summary = chain.run(chunks)"
      ]
    },
    {
      "cell_type": "code",
      "execution_count": 83,
      "metadata": {
        "colab": {
          "base_uri": "https://localhost:8080/"
        },
        "id": "ZsNYM_4F5I-2",
        "outputId": "eff6c489-aedd-4c39-8c16-9896d6b16aee"
      },
      "outputs": [
        {
          "output_type": "execute_result",
          "data": {
            "text/plain": [
              "\"In his farewell address, A P J Abdul Kalam encapsulates his enriching five-year tenure as the President of India, weaving through his myriad interactions across the nation and beyond. He distills these experiences into ten pivotal messages, underscoring the urgency of development, the empowerment of rural areas, leveraging rural competencies, and agricultural advancement. Kalam shares stirring narratives, including a young girl's query that ignited a national development fervor, transformative village initiatives, and tales of individuals surmounting challenges through courage and collaboration. He accentuates the youth's pivotal role in realizing a developed India by 2020 and advocates for societal transformation via connectivity and collective challenge resolution. Kalam's discourse extends to his poetic reflections with villagers post-tsunami, showcasing resilience and hope, and his visionary Pan African e-Network proposal aimed at societal transformation through technology in Africa. He expresses pride in India's defense forces and their unwavering dedication, and highlights the Lead India 2020 Foundation's efforts in molding the youth towards enlightened citizenship. Concluding, Kalam envisions a developed India by 2020, characterized by reduced rural-urban divides, equitable resource distribution, and a harmonious blend of agriculture, industry, and service sectors. He calls for a nation where education, healthcare, and governance are accessible and transparent, aiming for a society free of poverty, illiteracy, and discrimination. Kalam's parting message is a clarion call for collective action towards national progress, rural empowerment, youth mobilization, and cultural preservation, aiming for a prosperous, secure, and inclusive India. His speech is not just a reflection but a roadmap and a call to action for collective effort towards a brighter future, embodying his life's mission to connect billions of hearts and minds towards making India a developed nation before 2020.\""
            ]
          },
          "metadata": {},
          "execution_count": 83
        }
      ],
      "source": [
        "output_summary"
      ]
    },
    {
      "cell_type": "code",
      "execution_count": null,
      "metadata": {
        "id": "k8fR6Vip5I-2"
      },
      "outputs": [],
      "source": []
    }
  ],
  "metadata": {
    "kernelspec": {
      "display_name": "Python 3",
      "language": "python",
      "name": "python3"
    },
    "language_info": {
      "codemirror_mode": {
        "name": "ipython",
        "version": 3
      },
      "file_extension": ".py",
      "mimetype": "text/x-python",
      "name": "python",
      "nbconvert_exporter": "python",
      "pygments_lexer": "ipython3",
      "version": "3.9.0"
    },
    "orig_nbformat": 4,
    "colab": {
      "provenance": []
    }
  },
  "nbformat": 4,
  "nbformat_minor": 0
}